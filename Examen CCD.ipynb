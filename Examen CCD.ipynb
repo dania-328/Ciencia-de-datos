{
 "cells": [
  {
   "cell_type": "code",
   "execution_count": 15,
   "metadata": {},
   "outputs": [
    {
     "name": "stdout",
     "output_type": "stream",
     "text": [
      "Requirement already satisfied: pandas in c:\\users\\joxec\\appdata\\local\\programs\\python\\python313\\lib\\site-packages (2.2.3)\n",
      "Requirement already satisfied: numpy>=1.26.0 in c:\\users\\joxec\\appdata\\local\\programs\\python\\python313\\lib\\site-packages (from pandas) (2.2.0)\n",
      "Requirement already satisfied: python-dateutil>=2.8.2 in c:\\users\\joxec\\appdata\\roaming\\python\\python313\\site-packages (from pandas) (2.9.0.post0)\n",
      "Requirement already satisfied: pytz>=2020.1 in c:\\users\\joxec\\appdata\\local\\programs\\python\\python313\\lib\\site-packages (from pandas) (2024.2)\n",
      "Requirement already satisfied: tzdata>=2022.7 in c:\\users\\joxec\\appdata\\local\\programs\\python\\python313\\lib\\site-packages (from pandas) (2024.2)\n",
      "Requirement already satisfied: six>=1.5 in c:\\users\\joxec\\appdata\\roaming\\python\\python313\\site-packages (from python-dateutil>=2.8.2->pandas) (1.17.0)\n",
      "Note: you may need to restart the kernel to use updated packages.\n",
      "Note: you may need to restart the kernel to use updated packages.\n"
     ]
    },
    {
     "name": "stderr",
     "output_type": "stream",
     "text": [
      "ERROR: unknown command \"intall\" - maybe you meant \"install\"\n",
      "\n"
     ]
    },
    {
     "name": "stdout",
     "output_type": "stream",
     "text": [
      "Requirement already satisfied: seaborn in c:\\users\\joxec\\appdata\\local\\programs\\python\\python313\\lib\\site-packages (0.13.2)\n",
      "Requirement already satisfied: numpy!=1.24.0,>=1.20 in c:\\users\\joxec\\appdata\\local\\programs\\python\\python313\\lib\\site-packages (from seaborn) (2.2.0)\n",
      "Requirement already satisfied: pandas>=1.2 in c:\\users\\joxec\\appdata\\local\\programs\\python\\python313\\lib\\site-packages (from seaborn) (2.2.3)\n",
      "Requirement already satisfied: matplotlib!=3.6.1,>=3.4 in c:\\users\\joxec\\appdata\\local\\programs\\python\\python313\\lib\\site-packages (from seaborn) (3.10.0)\n",
      "Requirement already satisfied: contourpy>=1.0.1 in c:\\users\\joxec\\appdata\\local\\programs\\python\\python313\\lib\\site-packages (from matplotlib!=3.6.1,>=3.4->seaborn) (1.3.1)\n",
      "Requirement already satisfied: cycler>=0.10 in c:\\users\\joxec\\appdata\\local\\programs\\python\\python313\\lib\\site-packages (from matplotlib!=3.6.1,>=3.4->seaborn) (0.12.1)\n",
      "Requirement already satisfied: fonttools>=4.22.0 in c:\\users\\joxec\\appdata\\local\\programs\\python\\python313\\lib\\site-packages (from matplotlib!=3.6.1,>=3.4->seaborn) (4.55.3)\n",
      "Requirement already satisfied: kiwisolver>=1.3.1 in c:\\users\\joxec\\appdata\\local\\programs\\python\\python313\\lib\\site-packages (from matplotlib!=3.6.1,>=3.4->seaborn) (1.4.7)\n",
      "Requirement already satisfied: packaging>=20.0 in c:\\users\\joxec\\appdata\\roaming\\python\\python313\\site-packages (from matplotlib!=3.6.1,>=3.4->seaborn) (24.2)\n",
      "Requirement already satisfied: pillow>=8 in c:\\users\\joxec\\appdata\\local\\programs\\python\\python313\\lib\\site-packages (from matplotlib!=3.6.1,>=3.4->seaborn) (11.0.0)\n",
      "Requirement already satisfied: pyparsing>=2.3.1 in c:\\users\\joxec\\appdata\\local\\programs\\python\\python313\\lib\\site-packages (from matplotlib!=3.6.1,>=3.4->seaborn) (3.2.0)\n",
      "Requirement already satisfied: python-dateutil>=2.7 in c:\\users\\joxec\\appdata\\roaming\\python\\python313\\site-packages (from matplotlib!=3.6.1,>=3.4->seaborn) (2.9.0.post0)\n",
      "Requirement already satisfied: pytz>=2020.1 in c:\\users\\joxec\\appdata\\local\\programs\\python\\python313\\lib\\site-packages (from pandas>=1.2->seaborn) (2024.2)\n",
      "Requirement already satisfied: tzdata>=2022.7 in c:\\users\\joxec\\appdata\\local\\programs\\python\\python313\\lib\\site-packages (from pandas>=1.2->seaborn) (2024.2)\n",
      "Requirement already satisfied: six>=1.5 in c:\\users\\joxec\\appdata\\roaming\\python\\python313\\site-packages (from python-dateutil>=2.7->matplotlib!=3.6.1,>=3.4->seaborn) (1.17.0)\n",
      "Note: you may need to restart the kernel to use updated packages.\n",
      "Requirement already satisfied: scikit-learn in c:\\users\\joxec\\appdata\\local\\programs\\python\\python313\\lib\\site-packages (1.6.0)\n",
      "Requirement already satisfied: numpy>=1.19.5 in c:\\users\\joxec\\appdata\\local\\programs\\python\\python313\\lib\\site-packages (from scikit-learn) (2.2.0)\n",
      "Requirement already satisfied: scipy>=1.6.0 in c:\\users\\joxec\\appdata\\local\\programs\\python\\python313\\lib\\site-packages (from scikit-learn) (1.14.1)\n",
      "Requirement already satisfied: joblib>=1.2.0 in c:\\users\\joxec\\appdata\\local\\programs\\python\\python313\\lib\\site-packages (from scikit-learn) (1.4.2)\n",
      "Requirement already satisfied: threadpoolctl>=3.1.0 in c:\\users\\joxec\\appdata\\local\\programs\\python\\python313\\lib\\site-packages (from scikit-learn) (3.5.0)\n",
      "Note: you may need to restart the kernel to use updated packages.\n",
      "Collecting statsmodels\n",
      "  Downloading statsmodels-0.14.4-cp313-cp313-win_amd64.whl.metadata (9.5 kB)\n",
      "Requirement already satisfied: numpy<3,>=1.22.3 in c:\\users\\joxec\\appdata\\local\\programs\\python\\python313\\lib\\site-packages (from statsmodels) (2.2.0)\n",
      "Requirement already satisfied: scipy!=1.9.2,>=1.8 in c:\\users\\joxec\\appdata\\local\\programs\\python\\python313\\lib\\site-packages (from statsmodels) (1.14.1)\n",
      "Requirement already satisfied: pandas!=2.1.0,>=1.4 in c:\\users\\joxec\\appdata\\local\\programs\\python\\python313\\lib\\site-packages (from statsmodels) (2.2.3)\n",
      "Collecting patsy>=0.5.6 (from statsmodels)\n",
      "  Downloading patsy-1.0.1-py2.py3-none-any.whl.metadata (3.3 kB)\n",
      "Requirement already satisfied: packaging>=21.3 in c:\\users\\joxec\\appdata\\roaming\\python\\python313\\site-packages (from statsmodels) (24.2)\n",
      "Requirement already satisfied: python-dateutil>=2.8.2 in c:\\users\\joxec\\appdata\\roaming\\python\\python313\\site-packages (from pandas!=2.1.0,>=1.4->statsmodels) (2.9.0.post0)\n",
      "Requirement already satisfied: pytz>=2020.1 in c:\\users\\joxec\\appdata\\local\\programs\\python\\python313\\lib\\site-packages (from pandas!=2.1.0,>=1.4->statsmodels) (2024.2)\n",
      "Requirement already satisfied: tzdata>=2022.7 in c:\\users\\joxec\\appdata\\local\\programs\\python\\python313\\lib\\site-packages (from pandas!=2.1.0,>=1.4->statsmodels) (2024.2)\n",
      "Requirement already satisfied: six>=1.5 in c:\\users\\joxec\\appdata\\roaming\\python\\python313\\site-packages (from python-dateutil>=2.8.2->pandas!=2.1.0,>=1.4->statsmodels) (1.17.0)\n",
      "Downloading statsmodels-0.14.4-cp313-cp313-win_amd64.whl (9.8 MB)\n",
      "   ---------------------------------------- 0.0/9.8 MB ? eta -:--:--\n",
      "   -------- ------------------------------- 2.1/9.8 MB 13.6 MB/s eta 0:00:01\n",
      "   -------- ------------------------------- 2.1/9.8 MB 13.6 MB/s eta 0:00:01\n",
      "   -------- ------------------------------- 2.1/9.8 MB 13.6 MB/s eta 0:00:01\n",
      "   ----------------- ---------------------- 4.2/9.8 MB 5.0 MB/s eta 0:00:02\n",
      "   ----------------- ---------------------- 4.2/9.8 MB 5.0 MB/s eta 0:00:02\n",
      "   ----------------- ---------------------- 4.2/9.8 MB 5.0 MB/s eta 0:00:02\n",
      "   --------------------- ------------------ 5.2/9.8 MB 3.8 MB/s eta 0:00:02\n",
      "   --------------------- ------------------ 5.2/9.8 MB 3.8 MB/s eta 0:00:02\n",
      "   ---------------------------------- ----- 8.4/9.8 MB 4.5 MB/s eta 0:00:01\n",
      "   ---------------------------------- ----- 8.4/9.8 MB 4.5 MB/s eta 0:00:01\n",
      "   ---------------------------------------- 9.8/9.8 MB 4.6 MB/s eta 0:00:00\n",
      "Downloading patsy-1.0.1-py2.py3-none-any.whl (232 kB)\n",
      "Installing collected packages: patsy, statsmodels\n",
      "Successfully installed patsy-1.0.1 statsmodels-0.14.4\n",
      "Note: you may need to restart the kernel to use updated packages.\n"
     ]
    }
   ],
   "source": [
    "%pip install pandas\n",
    "%pip intall matplotlib.pyplot\n",
    "%pip install seaborn\n",
    "%pip install scikit-learn\n",
    "%pip install statsmodels\n"
   ]
  },
  {
   "cell_type": "code",
   "execution_count": 16,
   "metadata": {},
   "outputs": [],
   "source": [
    "# Importar bibliotecas\n",
    "import pandas as pd # manejo de datos\n",
    "import numpy as np # manejo numérico\n",
    "import matplotlib.pyplot as plt # graficos\n",
    "import seaborn as sns # graficos\n",
    "import matplotlib.pyplot as plt\n",
    "\n",
    "\n",
    "# Importar módulo para ignorar errores\n",
    "from warnings import filterwarnings\n",
    "filterwarnings('ignore')\n",
    "\n",
    "from sklearn.model_selection import train_test_split # Separar el set de datos\n",
    "from sklearn.linear_model import LinearRegression # Regresión Lineal\n",
    "from sklearn.metrics import mean_squared_error, mean_absolute_error, r2_score # Importar métricas de rendimientos\n",
    "import statsmodels.api as sm\n",
    "pd.options.display.float_format = '{:.4f}'.format\n",
    "# Importar módulo para ignorar errores\n",
    "from warnings import filterwarnings\n",
    "filterwarnings('ignore')"
   ]
  },
  {
   "cell_type": "markdown",
   "metadata": {},
   "source": [
    "IMPORTAR SET DE DATOS"
   ]
  },
  {
   "cell_type": "code",
   "execution_count": 19,
   "metadata": {},
   "outputs": [],
   "source": [
    "archivo = \"ingresos-1.txt\"\n",
    "data = pd.read_csv(archivo, sep=\"\\t\", encoding='latin-1')"
   ]
  },
  {
   "cell_type": "code",
   "execution_count": 20,
   "metadata": {},
   "outputs": [
    {
     "name": "stdout",
     "output_type": "stream",
     "text": [
      "<class 'pandas.core.frame.DataFrame'>\n",
      "RangeIndex: 1816 entries, 0 to 1815\n",
      "Data columns (total 14 columns):\n",
      " #   Column           Non-Null Count  Dtype  \n",
      "---  ------           --------------  -----  \n",
      " 0   estatura         1816 non-null   float64\n",
      " 1   peso             1789 non-null   float64\n",
      " 2   genero           1816 non-null   object \n",
      " 3   ingresos         1816 non-null   float64\n",
      " 4   etnia            1816 non-null   object \n",
      " 5   educacion        1814 non-null   float64\n",
      " 6   educacion_madre  1572 non-null   float64\n",
      " 7   educacion_padre  1521 non-null   float64\n",
      " 8   camina           1816 non-null   int64  \n",
      " 9   ejercicio        1816 non-null   int64  \n",
      " 10  fumador          1815 non-null   float64\n",
      " 11  tenso            1815 non-null   float64\n",
      " 12  malhumorado      1815 non-null   float64\n",
      " 13  edad             1816 non-null   int64  \n",
      "dtypes: float64(9), int64(3), object(2)\n",
      "memory usage: 198.8+ KB\n"
     ]
    }
   ],
   "source": [
    "# Limpieza de la base de datos\n",
    "data.info()"
   ]
  },
  {
   "cell_type": "markdown",
   "metadata": {},
   "source": [
    "Vamos a ir trabajando columna a columna la base de datos.\n",
    "\n",
    "Aprovechando que la estatura no posee valores nulos, solamente vamos a cambiar los datos para que nos muestre la información sin decimales, ya que los decimales en este caso son irrelevantes al momento de querer analizar la información, es decir, la justificación es que son imperceptibles, por lo que puede ser información extra sin sentido mantenerlos."
   ]
  },
  {
   "cell_type": "code",
   "execution_count": 24,
   "metadata": {},
   "outputs": [
    {
     "name": "stdout",
     "output_type": "stream",
     "text": [
      "0    188\n",
      "1    168\n",
      "2    163\n",
      "3    165\n",
      "4    160\n",
      "Name: estatura, dtype: int64\n"
     ]
    }
   ],
   "source": [
    "# Redondear los valores de la columna 'estatura' y actualizar la columna\n",
    "data['estatura'] = data['estatura'].round(0).astype(int)\n",
    "\n",
    "# Verificar los cambios\n",
    "print(data['estatura'].head())"
   ]
  },
  {
   "cell_type": "markdown",
   "metadata": {},
   "source": [
    "Dado que hay hartos valoes nulos para la columna peso, aprovecharemos que existen todos los valores de altura, por lo que para asignarle un valor a aquellas casillas nulas en la columna peso, nos basaremos en un IMC promedio, es decir, el promedio entre los rangos de normalidad. Buscando en internet, nos da que los rangos son entre 18.5 y 24.9, por lo que el IMC en el que nos vamos a basar es de 21.7\n",
    "\n",
    "Entonces, todas las casillas de peso, serán rellenadas con el valor correspondiente que junto a la altura de la fila que corresponda, nos de un imc de 21.7"
   ]
  },
  {
   "cell_type": "code",
   "execution_count": 25,
   "metadata": {},
   "outputs": [
    {
     "name": "stdout",
     "output_type": "stream",
     "text": [
      "   estatura    peso\n",
      "0       188 95.2500\n",
      "1       168 56.7000\n",
      "2       163 57.1500\n",
      "3       165 90.7200\n",
      "4       160 49.9000\n"
     ]
    }
   ],
   "source": [
    "# Convertir la altura de centímetros a metros\n",
    "data['estatura_metros'] = data['estatura'] / 100\n",
    "\n",
    "# Calcular el peso basado en un IMC promedio sano de 21.7 para los valores nulos en la columna 'peso'\n",
    "imc_sano = 21.7\n",
    "data['peso'] = data['peso'].fillna(data['estatura_metros'] ** 2 * imc_sano)\n",
    "\n",
    "# Verificar los cambios\n",
    "print(data[['estatura', 'peso']].head())"
   ]
  },
  {
   "cell_type": "markdown",
   "metadata": {},
   "source": [
    "Comprobamos que no hay más datos nulos de peso"
   ]
  },
  {
   "cell_type": "code",
   "execution_count": 26,
   "metadata": {},
   "outputs": [
    {
     "name": "stdout",
     "output_type": "stream",
     "text": [
      "<class 'pandas.core.frame.DataFrame'>\n",
      "RangeIndex: 1816 entries, 0 to 1815\n",
      "Data columns (total 15 columns):\n",
      " #   Column           Non-Null Count  Dtype  \n",
      "---  ------           --------------  -----  \n",
      " 0   estatura         1816 non-null   int64  \n",
      " 1   peso             1816 non-null   float64\n",
      " 2   genero           1816 non-null   object \n",
      " 3   ingresos         1816 non-null   float64\n",
      " 4   etnia            1816 non-null   object \n",
      " 5   educacion        1814 non-null   float64\n",
      " 6   educacion_madre  1572 non-null   float64\n",
      " 7   educacion_padre  1521 non-null   float64\n",
      " 8   camina           1816 non-null   int64  \n",
      " 9   ejercicio        1816 non-null   int64  \n",
      " 10  fumador          1815 non-null   float64\n",
      " 11  tenso            1815 non-null   float64\n",
      " 12  malhumorado      1815 non-null   float64\n",
      " 13  edad             1816 non-null   int64  \n",
      " 14  estatura_metros  1816 non-null   float64\n",
      "dtypes: float64(9), int64(4), object(2)\n",
      "memory usage: 212.9+ KB\n"
     ]
    }
   ],
   "source": [
    "data.info()"
   ]
  },
  {
   "cell_type": "markdown",
   "metadata": {},
   "source": [
    "Dejamos la variable peso en solo el primer decimal, que es lo que normalmente muestra las pesas domésticas, con el mismo fin de aproximar la altura, ya que las variaciones terminan siendo de carácter imperceptible."
   ]
  },
  {
   "cell_type": "code",
   "execution_count": 27,
   "metadata": {},
   "outputs": [
    {
     "name": "stdout",
     "output_type": "stream",
     "text": [
      "   estatura    peso\n",
      "0       188 95.2000\n",
      "1       168 56.7000\n",
      "2       163 57.2000\n",
      "3       165 90.7000\n",
      "4       160 49.9000\n"
     ]
    }
   ],
   "source": [
    "# Redondear los valores de la columna 'peso' al primer decimal\n",
    "data['peso'] = data['peso'].round(1)\n",
    "\n",
    "# Verificar los cambios\n",
    "print(data[['estatura', 'peso']].head())"
   ]
  },
  {
   "cell_type": "markdown",
   "metadata": {},
   "source": [
    "Para continuar, tenemos la variable genero, y vamos a convertirla en variable binaria, así nos ayudará a cualquier intento de análisis de regresión. Cambiaremos los valores de femenino por el valor 0 y masculino por el valor 1. Luego comprobaremos que no haya ningún dato que no corresponda a 0 o 1."
   ]
  },
  {
   "cell_type": "code",
   "execution_count": 28,
   "metadata": {},
   "outputs": [
    {
     "name": "stdout",
     "output_type": "stream",
     "text": [
      "genero\n",
      "0    1141\n",
      "1     675\n",
      "Name: count, dtype: int64\n"
     ]
    }
   ],
   "source": [
    "# Convertir la columna 'genero' en una variable binaria\n",
    "data['genero'] = data['genero'].replace({'femenino': 0, 'masculino': 1})\n",
    "\n",
    "# Verificar los cambios\n",
    "print(data['genero'].value_counts())"
   ]
  },
  {
   "cell_type": "markdown",
   "metadata": {},
   "source": [
    "Dado que la suma entre los valores 0 y 1 es 1816, se confirma que no hay valores NA para la columna que queremos tratar como variable binaria. Además podemos observar que hay casi el doble de mujeres en esta base de datos.\n",
    "\n",
    "Los ingresos en Dólares están bien, no hay valores nulos y están relativamente aproximados a un entero, lo que permite hacer un análisis a grandes rasgos.\n",
    "\n",
    "Para la siguiente columna de etnia, primero verificaremos cuántos datos distintos existen."
   ]
  },
  {
   "cell_type": "code",
   "execution_count": 29,
   "metadata": {},
   "outputs": [
    {
     "name": "stdout",
     "output_type": "stream",
     "text": [
      "Valores únicos en 'etnia': ['Blanco' 'Other' 'Afroamericano' 'Latino']\n",
      "Cantidad de valores únicos en 'etnia': 4\n"
     ]
    }
   ],
   "source": [
    "# Verificar los valores únicos en la columna 'etnia'\n",
    "valores_unicos = data['etnia'].unique()\n",
    "cantidad_valores_unicos = data['etnia'].nunique()\n",
    "\n",
    "# Imprimir los resultados\n",
    "print(\"Valores únicos en 'etnia':\", valores_unicos)\n",
    "print(\"Cantidad de valores únicos en 'etnia':\", cantidad_valores_unicos)"
   ]
  },
  {
   "cell_type": "markdown",
   "metadata": {},
   "source": [
    "Dado que hay 4 etnias distintas, vamos a revisar cuántos de cada uno de estos valores únicos hay (es decir, a contarlos)"
   ]
  },
  {
   "cell_type": "code",
   "execution_count": 30,
   "metadata": {},
   "outputs": [
    {
     "name": "stdout",
     "output_type": "stream",
     "text": [
      "etnia\n",
      "Blanco           1494\n",
      "Afroamericano     180\n",
      "Latino            104\n",
      "Other              38\n",
      "Name: count, dtype: int64\n"
     ]
    }
   ],
   "source": [
    "# Contar la cantidad de ocurrencias de cada valor en la columna 'etnia'\n",
    "conteo_etnia = data['etnia'].value_counts()\n",
    "\n",
    "# Imprimir el conteo\n",
    "print(conteo_etnia)"
   ]
  },
  {
   "cell_type": "markdown",
   "metadata": {},
   "source": [
    "Dado que existen en su mayoría la etnia \"Blanco\" la vamos a convertir en una variable dummie, para ello, la variable Blanco va a tomar el valor de 1, y todas las demás tomarán el valor 0"
   ]
  },
  {
   "cell_type": "code",
   "execution_count": 31,
   "metadata": {},
   "outputs": [
    {
     "name": "stdout",
     "output_type": "stream",
     "text": [
      "etnia\n",
      "1    1494\n",
      "0     322\n",
      "Name: count, dtype: int64\n"
     ]
    }
   ],
   "source": [
    "# Convertir 'etnia' en una variable dummie: 1 para 'Blanco', 0 para las demás\n",
    "data['etnia'] = data['etnia'].apply(lambda x: 1 if x == 'Blanco' else 0)\n",
    "\n",
    "# Verificar los cambios\n",
    "print(data['etnia'].value_counts())"
   ]
  },
  {
   "cell_type": "markdown",
   "metadata": {},
   "source": [
    "Nuevamente se cumple con los 1816 datos no nulos.\n",
    "\n",
    "Dado que en la columna educacion solo faltan dos datos, podemos rellenar aquellos datos faltantes con el promedio, ya que son con suerte un 0.1% de los datos."
   ]
  },
  {
   "cell_type": "code",
   "execution_count": 32,
   "metadata": {},
   "outputs": [
    {
     "name": "stdout",
     "output_type": "stream",
     "text": [
      "0\n"
     ]
    }
   ],
   "source": [
    "# Calcular el promedio de la columna 'educacion' ignorando los valores nulos\n",
    "promedio_educacion = data['educacion'].mean()\n",
    "\n",
    "# Rellenar los valores faltantes en 'educacion' con el promedio calculado\n",
    "data['educacion'] = data['educacion'].fillna(promedio_educacion)\n",
    "\n",
    "# Verificar los cambios\n",
    "print(data['educacion'].isnull().sum())  # Confirmar que no hay valores nulos"
   ]
  },
  {
   "cell_type": "markdown",
   "metadata": {},
   "source": [
    "Además confirmamos que no hay más datos nulos.\n",
    "\n",
    "Dado el contexto, creemos que lo mejor es dejar educación de madre y padre tal y como están, dado que pueden ser irrelevantes para nuestro estudio, y además hay demasiado valores nulos, por lo que puede ser perjudicial al análisis si es que se intenta imputar con tantos datos. Simplemente en caso de que estorben, lo mejor es ignorar estas columnas, aún no las eliminaremos. Incluso podríamos agregar los valores 0, pero indicaría que al rededor del 20% de padres y madres de muchas personas no tienen educación, lo cual podría llegar a ser un análisis relevante."
   ]
  },
  {
   "cell_type": "code",
   "execution_count": 33,
   "metadata": {},
   "outputs": [
    {
     "name": "stdout",
     "output_type": "stream",
     "text": [
      "<class 'pandas.core.frame.DataFrame'>\n",
      "RangeIndex: 1816 entries, 0 to 1815\n",
      "Data columns (total 15 columns):\n",
      " #   Column           Non-Null Count  Dtype  \n",
      "---  ------           --------------  -----  \n",
      " 0   estatura         1816 non-null   int64  \n",
      " 1   peso             1816 non-null   float64\n",
      " 2   genero           1816 non-null   int64  \n",
      " 3   ingresos         1816 non-null   float64\n",
      " 4   etnia            1816 non-null   int64  \n",
      " 5   educacion        1816 non-null   float64\n",
      " 6   educacion_madre  1572 non-null   float64\n",
      " 7   educacion_padre  1521 non-null   float64\n",
      " 8   camina           1816 non-null   int64  \n",
      " 9   ejercicio        1816 non-null   int64  \n",
      " 10  fumador          1815 non-null   float64\n",
      " 11  tenso            1815 non-null   float64\n",
      " 12  malhumorado      1815 non-null   float64\n",
      " 13  edad             1816 non-null   int64  \n",
      " 14  estatura_metros  1816 non-null   float64\n",
      "dtypes: float64(9), int64(6)\n",
      "memory usage: 212.9 KB\n"
     ]
    }
   ],
   "source": [
    "data.info()"
   ]
  },
  {
   "cell_type": "markdown",
   "metadata": {},
   "source": [
    "Yendo ahora al tema de si caminan o no, dada la descripción de los datos al inicio, vamos a convertir la columna en sedentarismo, el salir a caminar o no, los valores de 1 a 4 se considerará como el valor binario 1, de que la persona es sedentaria. los demás valores tomarán el 0, ya qu eno sería sedentaria."
   ]
  },
  {
   "cell_type": "code",
   "execution_count": 34,
   "metadata": {},
   "outputs": [
    {
     "name": "stdout",
     "output_type": "stream",
     "text": [
      "sedentario\n",
      "0    1118\n",
      "1     698\n",
      "Name: count, dtype: int64\n"
     ]
    }
   ],
   "source": [
    "# Convertir la columna 'camina' en una variable binaria para sedentarismo\n",
    "data['sedentario'] = data['camina'].apply(lambda x: 1 if x in [1, 2, 3, 4] else 0)\n",
    "\n",
    "# Verificar los cambios\n",
    "print(data['sedentario'].value_counts())"
   ]
  },
  {
   "cell_type": "markdown",
   "metadata": {},
   "source": [
    "Dados los valores obtenidos, al rededor de 1/3 de la gente solamente es sedentaria.\n",
    "\n",
    "Luego con la olumna ejercicio, se dejará de esa forma ya que es útil tener la información de días que usan las personas para hacer ejercicio a lo largo de la semana, y aquellos valores que sean 0 también tienen sentido. No hay valores nulos.\n",
    "\n",
    "Cambiaremos los valores de la columna de si fuma o no, ya que no sirve para el análisis que los valores sean 1 y 2, mas si 0 y 1, por lo que aquellos valores iguales a 1, significa que efectivamente fuman, y en vez del valor 2, ahora se tendrá el 0 para indicar que no son fumadores."
   ]
  },
  {
   "cell_type": "code",
   "execution_count": 35,
   "metadata": {},
   "outputs": [
    {
     "name": "stdout",
     "output_type": "stream",
     "text": [
      "fumador\n",
      "0    1354\n",
      "1     462\n",
      "Name: count, dtype: int64\n"
     ]
    }
   ],
   "source": [
    "# Cambiar los valores de la columna 'fumador'\n",
    "data['fumador'] = data['fumador'].apply(lambda x: 1 if x == 1 else 0)\n",
    "\n",
    "# Verificar los cambios\n",
    "print(data['fumador'].value_counts())"
   ]
  },
  {
   "cell_type": "markdown",
   "metadata": {},
   "source": [
    "Sin datos nulos, ya tenemos la información en formato de variable dummie sobre si la persona es fumadora o no\n",
    "\n",
    "Luego con si la persona está tensa o malhumorada también es información útil, y el formato al igual que en ejercicio nos puede llegar a servir para los análisis en cuestión. Aunque hay un dato nulo en ambos casos, el que rellenaremos con 0, considerando que la persona que no contetó esa información no estaba ni tensa ni malhumorada."
   ]
  },
  {
   "cell_type": "code",
   "execution_count": 36,
   "metadata": {},
   "outputs": [
    {
     "name": "stdout",
     "output_type": "stream",
     "text": [
      "tenso          0\n",
      "malhumorado    0\n",
      "dtype: int64\n"
     ]
    }
   ],
   "source": [
    "# Rellenar valores nulos en las columnas 'tenso' y 'malhumorado' con 0\n",
    "data['tenso'] = data['tenso'].fillna(0)\n",
    "data['malhumorado'] = data['malhumorado'].fillna(0)\n",
    "\n",
    "# Verificar que ya no haya valores nulos\n",
    "print(data[['tenso', 'malhumorado']].isnull().sum())"
   ]
  },
  {
   "cell_type": "code",
   "execution_count": 37,
   "metadata": {},
   "outputs": [
    {
     "name": "stdout",
     "output_type": "stream",
     "text": [
      "<class 'pandas.core.frame.DataFrame'>\n",
      "RangeIndex: 1816 entries, 0 to 1815\n",
      "Data columns (total 16 columns):\n",
      " #   Column           Non-Null Count  Dtype  \n",
      "---  ------           --------------  -----  \n",
      " 0   estatura         1816 non-null   int64  \n",
      " 1   peso             1816 non-null   float64\n",
      " 2   genero           1816 non-null   int64  \n",
      " 3   ingresos         1816 non-null   float64\n",
      " 4   etnia            1816 non-null   int64  \n",
      " 5   educacion        1816 non-null   float64\n",
      " 6   educacion_madre  1572 non-null   float64\n",
      " 7   educacion_padre  1521 non-null   float64\n",
      " 8   camina           1816 non-null   int64  \n",
      " 9   ejercicio        1816 non-null   int64  \n",
      " 10  fumador          1816 non-null   int64  \n",
      " 11  tenso            1816 non-null   float64\n",
      " 12  malhumorado      1816 non-null   float64\n",
      " 13  edad             1816 non-null   int64  \n",
      " 14  estatura_metros  1816 non-null   float64\n",
      " 15  sedentario       1816 non-null   int64  \n",
      "dtypes: float64(8), int64(8)\n",
      "memory usage: 227.1 KB\n"
     ]
    }
   ],
   "source": [
    "data.info()"
   ]
  },
  {
   "cell_type": "markdown",
   "metadata": {},
   "source": [
    "Revisando la información de la base de datos podemos finalmente eliminar aquellas columnas que están \"duplicadas\" dado todas las modificaciones que se hicieron, en este caso, eliminaremos \"estatura_metros\" y \"camina\""
   ]
  },
  {
   "cell_type": "code",
   "execution_count": 38,
   "metadata": {},
   "outputs": [
    {
     "name": "stdout",
     "output_type": "stream",
     "text": [
      "Index(['estatura', 'peso', 'genero', 'ingresos', 'etnia', 'educacion',\n",
      "       'educacion_madre', 'educacion_padre', 'ejercicio', 'fumador', 'tenso',\n",
      "       'malhumorado', 'edad', 'sedentario'],\n",
      "      dtype='object')\n"
     ]
    }
   ],
   "source": [
    "# Eliminar las columnas 'estatura_metros' y 'camina'\n",
    "data = data.drop(columns=['estatura_metros', 'camina'])\n",
    "\n",
    "# Verificar que las columnas hayan sido eliminadas\n",
    "print(data.columns)"
   ]
  },
  {
   "cell_type": "code",
   "execution_count": 39,
   "metadata": {},
   "outputs": [
    {
     "name": "stdout",
     "output_type": "stream",
     "text": [
      "<class 'pandas.core.frame.DataFrame'>\n",
      "RangeIndex: 1816 entries, 0 to 1815\n",
      "Data columns (total 14 columns):\n",
      " #   Column           Non-Null Count  Dtype  \n",
      "---  ------           --------------  -----  \n",
      " 0   estatura         1816 non-null   int64  \n",
      " 1   peso             1816 non-null   float64\n",
      " 2   genero           1816 non-null   int64  \n",
      " 3   ingresos         1816 non-null   float64\n",
      " 4   etnia            1816 non-null   int64  \n",
      " 5   educacion        1816 non-null   float64\n",
      " 6   educacion_madre  1572 non-null   float64\n",
      " 7   educacion_padre  1521 non-null   float64\n",
      " 8   ejercicio        1816 non-null   int64  \n",
      " 9   fumador          1816 non-null   int64  \n",
      " 10  tenso            1816 non-null   float64\n",
      " 11  malhumorado      1816 non-null   float64\n",
      " 12  edad             1816 non-null   int64  \n",
      " 13  sedentario       1816 non-null   int64  \n",
      "dtypes: float64(7), int64(7)\n",
      "memory usage: 198.8 KB\n"
     ]
    }
   ],
   "source": [
    "data.info()"
   ]
  },
  {
   "cell_type": "markdown",
   "metadata": {},
   "source": [
    "Y ahora con toda la base de datos limpia, es posible empezar con los distintos modelos de egresión, y verificar cuál es el mejor.\n",
    "\n",
    "Dado que las columnas de Educación padre y madre, tienen cada uno aproximadamente 300 datos menos, vamos a eliminar estas columnas, por distintas razones.\n",
    "\n",
    "1: La educación del padre o madre de una persona dentro de todo, a grandes rasgos debe tener una correlación baja, por lo que estamos dispuestos a un error mínimamente más grande, con el fin de no tener estos datos estorbando.\n",
    "\n",
    "2: Es mejor eliminar las columnas que las filas que no posean esta información en particular, ya que además si no coinciden los datos faltantes de educación padre con educación madre, estamos arriesgando el eliminar en el peor de los casos casi 600 filas, y no tiene sentido eliminar 1/3 de la información.\n",
    "\n",
    "3: Dado un largo período de reflexión, consideramos que estas columnas no serían tomadas en cuenta al momento de intentar con cualquier regresión que tengamos disponible.\n",
    "\n",
    "4: Dejamos una base de datos completa sin datos faltantes, logrando así que toda la información disponible pueda ser utilizada sin problema."
   ]
  },
  {
   "cell_type": "code",
   "execution_count": 40,
   "metadata": {},
   "outputs": [],
   "source": [
    "#eliminar columnas\n",
    "data = data.drop(columns=['educacion_madre', 'educacion_padre','estatura','ejercicio', 'fumador', 'peso'])"
   ]
  },
  {
   "cell_type": "code",
   "execution_count": 41,
   "metadata": {},
   "outputs": [
    {
     "data": {
      "text/html": [
       "<div>\n",
       "<style scoped>\n",
       "    .dataframe tbody tr th:only-of-type {\n",
       "        vertical-align: middle;\n",
       "    }\n",
       "\n",
       "    .dataframe tbody tr th {\n",
       "        vertical-align: top;\n",
       "    }\n",
       "\n",
       "    .dataframe thead th {\n",
       "        text-align: right;\n",
       "    }\n",
       "</style>\n",
       "<table border=\"1\" class=\"dataframe\">\n",
       "  <thead>\n",
       "    <tr style=\"text-align: right;\">\n",
       "      <th></th>\n",
       "      <th>genero</th>\n",
       "      <th>ingresos</th>\n",
       "      <th>etnia</th>\n",
       "      <th>educacion</th>\n",
       "      <th>tenso</th>\n",
       "      <th>malhumorado</th>\n",
       "      <th>edad</th>\n",
       "      <th>sedentario</th>\n",
       "    </tr>\n",
       "  </thead>\n",
       "  <tbody>\n",
       "    <tr>\n",
       "      <th>0</th>\n",
       "      <td>1</td>\n",
       "      <td>50000.0000</td>\n",
       "      <td>1</td>\n",
       "      <td>16.0000</td>\n",
       "      <td>0.0000</td>\n",
       "      <td>0.0000</td>\n",
       "      <td>45</td>\n",
       "      <td>1</td>\n",
       "    </tr>\n",
       "    <tr>\n",
       "      <th>1</th>\n",
       "      <td>0</td>\n",
       "      <td>60000.0000</td>\n",
       "      <td>1</td>\n",
       "      <td>16.0000</td>\n",
       "      <td>0.0000</td>\n",
       "      <td>0.0000</td>\n",
       "      <td>58</td>\n",
       "      <td>0</td>\n",
       "    </tr>\n",
       "    <tr>\n",
       "      <th>2</th>\n",
       "      <td>0</td>\n",
       "      <td>30000.0000</td>\n",
       "      <td>1</td>\n",
       "      <td>16.0000</td>\n",
       "      <td>1.0000</td>\n",
       "      <td>1.0000</td>\n",
       "      <td>29</td>\n",
       "      <td>0</td>\n",
       "    </tr>\n",
       "    <tr>\n",
       "      <th>3</th>\n",
       "      <td>0</td>\n",
       "      <td>25000.0000</td>\n",
       "      <td>1</td>\n",
       "      <td>17.0000</td>\n",
       "      <td>0.0000</td>\n",
       "      <td>0.0000</td>\n",
       "      <td>57</td>\n",
       "      <td>0</td>\n",
       "    </tr>\n",
       "    <tr>\n",
       "      <th>4</th>\n",
       "      <td>0</td>\n",
       "      <td>50000.0000</td>\n",
       "      <td>0</td>\n",
       "      <td>16.0000</td>\n",
       "      <td>0.0000</td>\n",
       "      <td>0.0000</td>\n",
       "      <td>91</td>\n",
       "      <td>0</td>\n",
       "    </tr>\n",
       "  </tbody>\n",
       "</table>\n",
       "</div>"
      ],
      "text/plain": [
       "   genero   ingresos  etnia  educacion  tenso  malhumorado  edad  sedentario\n",
       "0       1 50000.0000      1    16.0000 0.0000       0.0000    45           1\n",
       "1       0 60000.0000      1    16.0000 0.0000       0.0000    58           0\n",
       "2       0 30000.0000      1    16.0000 1.0000       1.0000    29           0\n",
       "3       0 25000.0000      1    17.0000 0.0000       0.0000    57           0\n",
       "4       0 50000.0000      0    16.0000 0.0000       0.0000    91           0"
      ]
     },
     "execution_count": 41,
     "metadata": {},
     "output_type": "execute_result"
    }
   ],
   "source": [
    "data.head()"
   ]
  },
  {
   "cell_type": "markdown",
   "metadata": {},
   "source": [
    "Regresiones"
   ]
  },
  {
   "cell_type": "code",
   "execution_count": 92,
   "metadata": {},
   "outputs": [],
   "source": [
    "def fn_metricas_info(modelo, y_verdadero, y_calculado):\n",
    "    metrics = {\n",
    "        'MAE': mean_absolute_error(y_verdadero, y_calculado),\n",
    "        'MSE': mean_squared_error(y_verdadero, y_calculado),\n",
    "        'RMSE': np.sqrt(mean_squared_error(y_verdadero, y_calculado)),\n",
    "        'R2': r2_score(y_verdadero, y_calculado)\n",
    "    }\n",
    "    return pd.DataFrame(metrics, index=[modelo])"
   ]
  },
  {
   "cell_type": "markdown",
   "metadata": {},
   "source": [
    "Regresión KKN"
   ]
  },
  {
   "cell_type": "markdown",
   "metadata": {},
   "source": [
    "El método KNN es un algoritmo supervisado utilizado para predicción (regresión o clasificación) basado en encontrar los K puntos más cercanos a un dato y calcular una media o seleccionar la clase mayoritaria.\n",
    "\n",
    "Este nos sirve para predecir los ingresos al tener un conjunto de datos amplios y con una base limpia con variables relevantes. Este se enfocara en la similitud de estos datos y generara predicciones precisas."
   ]
  },
  {
   "cell_type": "markdown",
   "metadata": {},
   "source": [
    "Instanciar el modelo Regresión KNN"
   ]
  },
  {
   "cell_type": "code",
   "execution_count": 93,
   "metadata": {},
   "outputs": [
    {
     "data": {
      "text/html": [
       "<div>\n",
       "<style scoped>\n",
       "    .dataframe tbody tr th:only-of-type {\n",
       "        vertical-align: middle;\n",
       "    }\n",
       "\n",
       "    .dataframe tbody tr th {\n",
       "        vertical-align: top;\n",
       "    }\n",
       "\n",
       "    .dataframe thead th {\n",
       "        text-align: right;\n",
       "    }\n",
       "</style>\n",
       "<table border=\"1\" class=\"dataframe\">\n",
       "  <thead>\n",
       "    <tr style=\"text-align: right;\">\n",
       "      <th></th>\n",
       "      <th>ingresos</th>\n",
       "      <th>0</th>\n",
       "    </tr>\n",
       "  </thead>\n",
       "  <tbody>\n",
       "    <tr>\n",
       "      <th>0</th>\n",
       "      <td>136500.0000</td>\n",
       "      <td>71515.0000</td>\n",
       "    </tr>\n",
       "    <tr>\n",
       "      <th>1</th>\n",
       "      <td>28000.0000</td>\n",
       "      <td>28000.0000</td>\n",
       "    </tr>\n",
       "    <tr>\n",
       "      <th>2</th>\n",
       "      <td>16000.0000</td>\n",
       "      <td>16000.0000</td>\n",
       "    </tr>\n",
       "    <tr>\n",
       "      <th>3</th>\n",
       "      <td>50000.0000</td>\n",
       "      <td>35000.0000</td>\n",
       "    </tr>\n",
       "    <tr>\n",
       "      <th>4</th>\n",
       "      <td>136500.0000</td>\n",
       "      <td>136500.0000</td>\n",
       "    </tr>\n",
       "    <tr>\n",
       "      <th>...</th>\n",
       "      <td>...</td>\n",
       "      <td>...</td>\n",
       "    </tr>\n",
       "    <tr>\n",
       "      <th>1447</th>\n",
       "      <td>18000.0000</td>\n",
       "      <td>18000.0000</td>\n",
       "    </tr>\n",
       "    <tr>\n",
       "      <th>1448</th>\n",
       "      <td>33000.0000</td>\n",
       "      <td>33000.0000</td>\n",
       "    </tr>\n",
       "    <tr>\n",
       "      <th>1449</th>\n",
       "      <td>0.0000</td>\n",
       "      <td>0.0000</td>\n",
       "    </tr>\n",
       "    <tr>\n",
       "      <th>1450</th>\n",
       "      <td>26000.0000</td>\n",
       "      <td>26000.0000</td>\n",
       "    </tr>\n",
       "    <tr>\n",
       "      <th>1451</th>\n",
       "      <td>8000.0000</td>\n",
       "      <td>8000.0000</td>\n",
       "    </tr>\n",
       "  </tbody>\n",
       "</table>\n",
       "<p>1452 rows × 2 columns</p>\n",
       "</div>"
      ],
      "text/plain": [
       "        ingresos           0\n",
       "0    136500.0000  71515.0000\n",
       "1     28000.0000  28000.0000\n",
       "2     16000.0000  16000.0000\n",
       "3     50000.0000  35000.0000\n",
       "4    136500.0000 136500.0000\n",
       "...          ...         ...\n",
       "1447  18000.0000  18000.0000\n",
       "1448  33000.0000  33000.0000\n",
       "1449      0.0000      0.0000\n",
       "1450  26000.0000  26000.0000\n",
       "1451   8000.0000   8000.0000\n",
       "\n",
       "[1452 rows x 2 columns]"
      ]
     },
     "execution_count": 93,
     "metadata": {},
     "output_type": "execute_result"
    }
   ],
   "source": [
    "from sklearn.neighbors import KNeighborsRegressor\n",
    "\n",
    "y = data['ingresos']\n",
    "X = data.drop(columns = 'ingresos')\n",
    "\n",
    "# Particionar data\n",
    "X_train,X_test,y_train,y_test = train_test_split(X, y, train_size = 0.8, random_state=0)\n",
    "\n",
    "\n",
    "# Instanciar KNN con K=12\n",
    "KNN_reg = KNeighborsRegressor(n_neighbors=12, p=1, weights='distance')\n",
    "KNN_reg.fit(X_train, y_train)\n",
    "\n",
    "y_train_pred = KNN_reg.predict(X_train)\n",
    "y_test_pred = KNN_reg.predict(X_test)\n",
    "\n",
    "pd.concat([y_train.reset_index(drop = True), pd.DataFrame(y_train_pred)], axis = 1)"
   ]
  },
  {
   "cell_type": "code",
   "execution_count": 94,
   "metadata": {},
   "outputs": [
    {
     "data": {
      "text/html": [
       "<div>\n",
       "<style scoped>\n",
       "    .dataframe tbody tr th:only-of-type {\n",
       "        vertical-align: middle;\n",
       "    }\n",
       "\n",
       "    .dataframe tbody tr th {\n",
       "        vertical-align: top;\n",
       "    }\n",
       "\n",
       "    .dataframe thead th {\n",
       "        text-align: right;\n",
       "    }\n",
       "</style>\n",
       "<table border=\"1\" class=\"dataframe\">\n",
       "  <thead>\n",
       "    <tr style=\"text-align: right;\">\n",
       "      <th></th>\n",
       "      <th>MAE</th>\n",
       "      <th>MSE</th>\n",
       "      <th>RMSE</th>\n",
       "      <th>R2</th>\n",
       "    </tr>\n",
       "  </thead>\n",
       "  <tbody>\n",
       "    <tr>\n",
       "      <th>Regresión KNN</th>\n",
       "      <td>1800.4435</td>\n",
       "      <td>34023530.7456</td>\n",
       "      <td>5832.9693</td>\n",
       "      <td>0.9347</td>\n",
       "    </tr>\n",
       "  </tbody>\n",
       "</table>\n",
       "</div>"
      ],
      "text/plain": [
       "                    MAE           MSE      RMSE     R2\n",
       "Regresión KNN 1800.4435 34023530.7456 5832.9693 0.9347"
      ]
     },
     "execution_count": 94,
     "metadata": {},
     "output_type": "execute_result"
    }
   ],
   "source": [
    "fn_metricas_info('Regresión KNN',y_train, y_train_pred)"
   ]
  },
  {
   "cell_type": "code",
   "execution_count": 95,
   "metadata": {},
   "outputs": [
    {
     "data": {
      "text/html": [
       "<div>\n",
       "<style scoped>\n",
       "    .dataframe tbody tr th:only-of-type {\n",
       "        vertical-align: middle;\n",
       "    }\n",
       "\n",
       "    .dataframe tbody tr th {\n",
       "        vertical-align: top;\n",
       "    }\n",
       "\n",
       "    .dataframe thead th {\n",
       "        text-align: right;\n",
       "    }\n",
       "</style>\n",
       "<table border=\"1\" class=\"dataframe\">\n",
       "  <thead>\n",
       "    <tr style=\"text-align: right;\">\n",
       "      <th></th>\n",
       "      <th>MAE</th>\n",
       "      <th>MSE</th>\n",
       "      <th>RMSE</th>\n",
       "      <th>R2</th>\n",
       "    </tr>\n",
       "  </thead>\n",
       "  <tbody>\n",
       "    <tr>\n",
       "      <th>Regresión KNN</th>\n",
       "      <td>13600.9387</td>\n",
       "      <td>397896919.0905</td>\n",
       "      <td>19947.3537</td>\n",
       "      <td>0.1216</td>\n",
       "    </tr>\n",
       "  </tbody>\n",
       "</table>\n",
       "</div>"
      ],
      "text/plain": [
       "                     MAE            MSE       RMSE     R2\n",
       "Regresión KNN 13600.9387 397896919.0905 19947.3537 0.1216"
      ]
     },
     "execution_count": 95,
     "metadata": {},
     "output_type": "execute_result"
    }
   ],
   "source": [
    "fn_metricas_info('Regresión KNN',y_test, y_test_pred)"
   ]
  },
  {
   "cell_type": "markdown",
   "metadata": {},
   "source": [
    "Ajustar parámetros del modelo"
   ]
  },
  {
   "cell_type": "code",
   "execution_count": 96,
   "metadata": {},
   "outputs": [
    {
     "name": "stdout",
     "output_type": "stream",
     "text": [
      "KNeighborsRegressor(n_neighbors=14, p=1)\n",
      "{'n_neighbors': 14, 'p': 1, 'weights': 'uniform'}\n",
      "-12328.862419887257\n"
     ]
    }
   ],
   "source": [
    "from sklearn.neighbors import KNeighborsRegressor\n",
    "knn = KNeighborsRegressor()\n",
    "\n",
    "#KNN_reg = KNeighborsRegressor(n_neighbors=12, p=1, weights='distance')\n",
    "\n",
    "# Agregar hiperparámetros al modelo\n",
    "hyperparameters = {'n_neighbors': list(range(15)),\n",
    "                   'weights': ['uniform', 'distance'],\n",
    "                   'p': [1, 2]}\n",
    "\n",
    "from sklearn.model_selection import GridSearchCV\n",
    "\n",
    "gs = GridSearchCV(knn, hyperparameters, scoring='neg_mean_absolute_error')\n",
    "gs.fit(X_train, y_train)\n",
    "\n",
    "#mostrar mejores parámetros para KNN\n",
    "print(gs.best_estimator_)\n",
    "print(gs.best_params_)\n",
    "print(gs.best_score_)"
   ]
  },
  {
   "cell_type": "code",
   "execution_count": 98,
   "metadata": {},
   "outputs": [
    {
     "data": {
      "text/html": [
       "<div>\n",
       "<style scoped>\n",
       "    .dataframe tbody tr th:only-of-type {\n",
       "        vertical-align: middle;\n",
       "    }\n",
       "\n",
       "    .dataframe tbody tr th {\n",
       "        vertical-align: top;\n",
       "    }\n",
       "\n",
       "    .dataframe thead th {\n",
       "        text-align: right;\n",
       "    }\n",
       "</style>\n",
       "<table border=\"1\" class=\"dataframe\">\n",
       "  <thead>\n",
       "    <tr style=\"text-align: right;\">\n",
       "      <th></th>\n",
       "      <th>ingresos</th>\n",
       "      <th>0</th>\n",
       "    </tr>\n",
       "  </thead>\n",
       "  <tbody>\n",
       "    <tr>\n",
       "      <th>0</th>\n",
       "      <td>136500.0000</td>\n",
       "      <td>34873.5714</td>\n",
       "    </tr>\n",
       "    <tr>\n",
       "      <th>1</th>\n",
       "      <td>28000.0000</td>\n",
       "      <td>57357.1429</td>\n",
       "    </tr>\n",
       "    <tr>\n",
       "      <th>2</th>\n",
       "      <td>16000.0000</td>\n",
       "      <td>18964.2857</td>\n",
       "    </tr>\n",
       "    <tr>\n",
       "      <th>3</th>\n",
       "      <td>50000.0000</td>\n",
       "      <td>30535.7143</td>\n",
       "    </tr>\n",
       "    <tr>\n",
       "      <th>4</th>\n",
       "      <td>136500.0000</td>\n",
       "      <td>31178.5714</td>\n",
       "    </tr>\n",
       "    <tr>\n",
       "      <th>...</th>\n",
       "      <td>...</td>\n",
       "      <td>...</td>\n",
       "    </tr>\n",
       "    <tr>\n",
       "      <th>1447</th>\n",
       "      <td>18000.0000</td>\n",
       "      <td>18857.1429</td>\n",
       "    </tr>\n",
       "    <tr>\n",
       "      <th>1448</th>\n",
       "      <td>33000.0000</td>\n",
       "      <td>42857.1429</td>\n",
       "    </tr>\n",
       "    <tr>\n",
       "      <th>1449</th>\n",
       "      <td>0.0000</td>\n",
       "      <td>14542.8571</td>\n",
       "    </tr>\n",
       "    <tr>\n",
       "      <th>1450</th>\n",
       "      <td>26000.0000</td>\n",
       "      <td>52928.5714</td>\n",
       "    </tr>\n",
       "    <tr>\n",
       "      <th>1451</th>\n",
       "      <td>8000.0000</td>\n",
       "      <td>14785.7143</td>\n",
       "    </tr>\n",
       "  </tbody>\n",
       "</table>\n",
       "<p>1452 rows × 2 columns</p>\n",
       "</div>"
      ],
      "text/plain": [
       "        ingresos          0\n",
       "0    136500.0000 34873.5714\n",
       "1     28000.0000 57357.1429\n",
       "2     16000.0000 18964.2857\n",
       "3     50000.0000 30535.7143\n",
       "4    136500.0000 31178.5714\n",
       "...          ...        ...\n",
       "1447  18000.0000 18857.1429\n",
       "1448  33000.0000 42857.1429\n",
       "1449      0.0000 14542.8571\n",
       "1450  26000.0000 52928.5714\n",
       "1451   8000.0000 14785.7143\n",
       "\n",
       "[1452 rows x 2 columns]"
      ]
     },
     "execution_count": 98,
     "metadata": {},
     "output_type": "execute_result"
    }
   ],
   "source": [
    "yk = data['ingresos']\n",
    "Xk = data.drop(columns = 'ingresos')\n",
    "# Particionar data\n",
    "Xk_train,Xk_test,yk_train,yk_test = train_test_split(Xk, yk, train_size = 0.8, random_state=0)\n",
    "\n",
    "# Instanciar KNN con K=14\n",
    "\n",
    "KNN_reg2 = KNeighborsRegressor(n_neighbors=14, p=1, weights='uniform')\n",
    "KNN_reg2.fit(Xk_train, yk_train)\n",
    "\n",
    "yk_train_pred = KNN_reg2.predict(X_train)\n",
    "yk_test_pred = KNN_reg2.predict(X_test)\n",
    "\n",
    "pd.concat([yk_train.reset_index(drop = True), pd.DataFrame(yk_train_pred)], axis = 1)"
   ]
  },
  {
   "cell_type": "code",
   "execution_count": 99,
   "metadata": {},
   "outputs": [
    {
     "data": {
      "text/html": [
       "<div>\n",
       "<style scoped>\n",
       "    .dataframe tbody tr th:only-of-type {\n",
       "        vertical-align: middle;\n",
       "    }\n",
       "\n",
       "    .dataframe tbody tr th {\n",
       "        vertical-align: top;\n",
       "    }\n",
       "\n",
       "    .dataframe thead th {\n",
       "        text-align: right;\n",
       "    }\n",
       "</style>\n",
       "<table border=\"1\" class=\"dataframe\">\n",
       "  <thead>\n",
       "    <tr style=\"text-align: right;\">\n",
       "      <th></th>\n",
       "      <th>MAE</th>\n",
       "      <th>MSE</th>\n",
       "      <th>RMSE</th>\n",
       "      <th>R2</th>\n",
       "    </tr>\n",
       "  </thead>\n",
       "  <tbody>\n",
       "    <tr>\n",
       "      <th>Regresión KNN</th>\n",
       "      <td>12704.8114</td>\n",
       "      <td>366964060.9990</td>\n",
       "      <td>19156.3060</td>\n",
       "      <td>0.1899</td>\n",
       "    </tr>\n",
       "  </tbody>\n",
       "</table>\n",
       "</div>"
      ],
      "text/plain": [
       "                     MAE            MSE       RMSE     R2\n",
       "Regresión KNN 12704.8114 366964060.9990 19156.3060 0.1899"
      ]
     },
     "execution_count": 99,
     "metadata": {},
     "output_type": "execute_result"
    }
   ],
   "source": [
    "##knn ajustada\n",
    "kkn= fn_metricas_info('Regresión KNN',yk_test, yk_test_pred)\n",
    "kkn"
   ]
  },
  {
   "cell_type": "markdown",
   "metadata": {},
   "source": [
    "Regresion polinomial"
   ]
  },
  {
   "cell_type": "markdown",
   "metadata": {},
   "source": [
    "Este enfoque se aplica cuando nuestras características sobre el target no se ajusta a una relación lineal. Un ejemplo clásico es la relación entre la caracterítica edad y salario, ya que su relación no es necesariamente lineal, sino que tiene una relación exponencial. Por lo que, es perfecto para lo que queremos predecir."
   ]
  },
  {
   "cell_type": "markdown",
   "metadata": {},
   "source": [
    "Instanciar el modelo Regresión Polinomial y aplicar a nuestro set de entrenamiento y test"
   ]
  },
  {
   "cell_type": "code",
   "execution_count": 100,
   "metadata": {},
   "outputs": [
    {
     "data": {
      "text/html": [
       "<style>#sk-container-id-2 {\n",
       "  /* Definition of color scheme common for light and dark mode */\n",
       "  --sklearn-color-text: #000;\n",
       "  --sklearn-color-text-muted: #666;\n",
       "  --sklearn-color-line: gray;\n",
       "  /* Definition of color scheme for unfitted estimators */\n",
       "  --sklearn-color-unfitted-level-0: #fff5e6;\n",
       "  --sklearn-color-unfitted-level-1: #f6e4d2;\n",
       "  --sklearn-color-unfitted-level-2: #ffe0b3;\n",
       "  --sklearn-color-unfitted-level-3: chocolate;\n",
       "  /* Definition of color scheme for fitted estimators */\n",
       "  --sklearn-color-fitted-level-0: #f0f8ff;\n",
       "  --sklearn-color-fitted-level-1: #d4ebff;\n",
       "  --sklearn-color-fitted-level-2: #b3dbfd;\n",
       "  --sklearn-color-fitted-level-3: cornflowerblue;\n",
       "\n",
       "  /* Specific color for light theme */\n",
       "  --sklearn-color-text-on-default-background: var(--sg-text-color, var(--theme-code-foreground, var(--jp-content-font-color1, black)));\n",
       "  --sklearn-color-background: var(--sg-background-color, var(--theme-background, var(--jp-layout-color0, white)));\n",
       "  --sklearn-color-border-box: var(--sg-text-color, var(--theme-code-foreground, var(--jp-content-font-color1, black)));\n",
       "  --sklearn-color-icon: #696969;\n",
       "\n",
       "  @media (prefers-color-scheme: dark) {\n",
       "    /* Redefinition of color scheme for dark theme */\n",
       "    --sklearn-color-text-on-default-background: var(--sg-text-color, var(--theme-code-foreground, var(--jp-content-font-color1, white)));\n",
       "    --sklearn-color-background: var(--sg-background-color, var(--theme-background, var(--jp-layout-color0, #111)));\n",
       "    --sklearn-color-border-box: var(--sg-text-color, var(--theme-code-foreground, var(--jp-content-font-color1, white)));\n",
       "    --sklearn-color-icon: #878787;\n",
       "  }\n",
       "}\n",
       "\n",
       "#sk-container-id-2 {\n",
       "  color: var(--sklearn-color-text);\n",
       "}\n",
       "\n",
       "#sk-container-id-2 pre {\n",
       "  padding: 0;\n",
       "}\n",
       "\n",
       "#sk-container-id-2 input.sk-hidden--visually {\n",
       "  border: 0;\n",
       "  clip: rect(1px 1px 1px 1px);\n",
       "  clip: rect(1px, 1px, 1px, 1px);\n",
       "  height: 1px;\n",
       "  margin: -1px;\n",
       "  overflow: hidden;\n",
       "  padding: 0;\n",
       "  position: absolute;\n",
       "  width: 1px;\n",
       "}\n",
       "\n",
       "#sk-container-id-2 div.sk-dashed-wrapped {\n",
       "  border: 1px dashed var(--sklearn-color-line);\n",
       "  margin: 0 0.4em 0.5em 0.4em;\n",
       "  box-sizing: border-box;\n",
       "  padding-bottom: 0.4em;\n",
       "  background-color: var(--sklearn-color-background);\n",
       "}\n",
       "\n",
       "#sk-container-id-2 div.sk-container {\n",
       "  /* jupyter's `normalize.less` sets `[hidden] { display: none; }`\n",
       "     but bootstrap.min.css set `[hidden] { display: none !important; }`\n",
       "     so we also need the `!important` here to be able to override the\n",
       "     default hidden behavior on the sphinx rendered scikit-learn.org.\n",
       "     See: https://github.com/scikit-learn/scikit-learn/issues/21755 */\n",
       "  display: inline-block !important;\n",
       "  position: relative;\n",
       "}\n",
       "\n",
       "#sk-container-id-2 div.sk-text-repr-fallback {\n",
       "  display: none;\n",
       "}\n",
       "\n",
       "div.sk-parallel-item,\n",
       "div.sk-serial,\n",
       "div.sk-item {\n",
       "  /* draw centered vertical line to link estimators */\n",
       "  background-image: linear-gradient(var(--sklearn-color-text-on-default-background), var(--sklearn-color-text-on-default-background));\n",
       "  background-size: 2px 100%;\n",
       "  background-repeat: no-repeat;\n",
       "  background-position: center center;\n",
       "}\n",
       "\n",
       "/* Parallel-specific style estimator block */\n",
       "\n",
       "#sk-container-id-2 div.sk-parallel-item::after {\n",
       "  content: \"\";\n",
       "  width: 100%;\n",
       "  border-bottom: 2px solid var(--sklearn-color-text-on-default-background);\n",
       "  flex-grow: 1;\n",
       "}\n",
       "\n",
       "#sk-container-id-2 div.sk-parallel {\n",
       "  display: flex;\n",
       "  align-items: stretch;\n",
       "  justify-content: center;\n",
       "  background-color: var(--sklearn-color-background);\n",
       "  position: relative;\n",
       "}\n",
       "\n",
       "#sk-container-id-2 div.sk-parallel-item {\n",
       "  display: flex;\n",
       "  flex-direction: column;\n",
       "}\n",
       "\n",
       "#sk-container-id-2 div.sk-parallel-item:first-child::after {\n",
       "  align-self: flex-end;\n",
       "  width: 50%;\n",
       "}\n",
       "\n",
       "#sk-container-id-2 div.sk-parallel-item:last-child::after {\n",
       "  align-self: flex-start;\n",
       "  width: 50%;\n",
       "}\n",
       "\n",
       "#sk-container-id-2 div.sk-parallel-item:only-child::after {\n",
       "  width: 0;\n",
       "}\n",
       "\n",
       "/* Serial-specific style estimator block */\n",
       "\n",
       "#sk-container-id-2 div.sk-serial {\n",
       "  display: flex;\n",
       "  flex-direction: column;\n",
       "  align-items: center;\n",
       "  background-color: var(--sklearn-color-background);\n",
       "  padding-right: 1em;\n",
       "  padding-left: 1em;\n",
       "}\n",
       "\n",
       "\n",
       "/* Toggleable style: style used for estimator/Pipeline/ColumnTransformer box that is\n",
       "clickable and can be expanded/collapsed.\n",
       "- Pipeline and ColumnTransformer use this feature and define the default style\n",
       "- Estimators will overwrite some part of the style using the `sk-estimator` class\n",
       "*/\n",
       "\n",
       "/* Pipeline and ColumnTransformer style (default) */\n",
       "\n",
       "#sk-container-id-2 div.sk-toggleable {\n",
       "  /* Default theme specific background. It is overwritten whether we have a\n",
       "  specific estimator or a Pipeline/ColumnTransformer */\n",
       "  background-color: var(--sklearn-color-background);\n",
       "}\n",
       "\n",
       "/* Toggleable label */\n",
       "#sk-container-id-2 label.sk-toggleable__label {\n",
       "  cursor: pointer;\n",
       "  display: flex;\n",
       "  width: 100%;\n",
       "  margin-bottom: 0;\n",
       "  padding: 0.5em;\n",
       "  box-sizing: border-box;\n",
       "  text-align: center;\n",
       "  align-items: start;\n",
       "  justify-content: space-between;\n",
       "  gap: 0.5em;\n",
       "}\n",
       "\n",
       "#sk-container-id-2 label.sk-toggleable__label .caption {\n",
       "  font-size: 0.6rem;\n",
       "  font-weight: lighter;\n",
       "  color: var(--sklearn-color-text-muted);\n",
       "}\n",
       "\n",
       "#sk-container-id-2 label.sk-toggleable__label-arrow:before {\n",
       "  /* Arrow on the left of the label */\n",
       "  content: \"▸\";\n",
       "  float: left;\n",
       "  margin-right: 0.25em;\n",
       "  color: var(--sklearn-color-icon);\n",
       "}\n",
       "\n",
       "#sk-container-id-2 label.sk-toggleable__label-arrow:hover:before {\n",
       "  color: var(--sklearn-color-text);\n",
       "}\n",
       "\n",
       "/* Toggleable content - dropdown */\n",
       "\n",
       "#sk-container-id-2 div.sk-toggleable__content {\n",
       "  max-height: 0;\n",
       "  max-width: 0;\n",
       "  overflow: hidden;\n",
       "  text-align: left;\n",
       "  /* unfitted */\n",
       "  background-color: var(--sklearn-color-unfitted-level-0);\n",
       "}\n",
       "\n",
       "#sk-container-id-2 div.sk-toggleable__content.fitted {\n",
       "  /* fitted */\n",
       "  background-color: var(--sklearn-color-fitted-level-0);\n",
       "}\n",
       "\n",
       "#sk-container-id-2 div.sk-toggleable__content pre {\n",
       "  margin: 0.2em;\n",
       "  border-radius: 0.25em;\n",
       "  color: var(--sklearn-color-text);\n",
       "  /* unfitted */\n",
       "  background-color: var(--sklearn-color-unfitted-level-0);\n",
       "}\n",
       "\n",
       "#sk-container-id-2 div.sk-toggleable__content.fitted pre {\n",
       "  /* unfitted */\n",
       "  background-color: var(--sklearn-color-fitted-level-0);\n",
       "}\n",
       "\n",
       "#sk-container-id-2 input.sk-toggleable__control:checked~div.sk-toggleable__content {\n",
       "  /* Expand drop-down */\n",
       "  max-height: 200px;\n",
       "  max-width: 100%;\n",
       "  overflow: auto;\n",
       "}\n",
       "\n",
       "#sk-container-id-2 input.sk-toggleable__control:checked~label.sk-toggleable__label-arrow:before {\n",
       "  content: \"▾\";\n",
       "}\n",
       "\n",
       "/* Pipeline/ColumnTransformer-specific style */\n",
       "\n",
       "#sk-container-id-2 div.sk-label input.sk-toggleable__control:checked~label.sk-toggleable__label {\n",
       "  color: var(--sklearn-color-text);\n",
       "  background-color: var(--sklearn-color-unfitted-level-2);\n",
       "}\n",
       "\n",
       "#sk-container-id-2 div.sk-label.fitted input.sk-toggleable__control:checked~label.sk-toggleable__label {\n",
       "  background-color: var(--sklearn-color-fitted-level-2);\n",
       "}\n",
       "\n",
       "/* Estimator-specific style */\n",
       "\n",
       "/* Colorize estimator box */\n",
       "#sk-container-id-2 div.sk-estimator input.sk-toggleable__control:checked~label.sk-toggleable__label {\n",
       "  /* unfitted */\n",
       "  background-color: var(--sklearn-color-unfitted-level-2);\n",
       "}\n",
       "\n",
       "#sk-container-id-2 div.sk-estimator.fitted input.sk-toggleable__control:checked~label.sk-toggleable__label {\n",
       "  /* fitted */\n",
       "  background-color: var(--sklearn-color-fitted-level-2);\n",
       "}\n",
       "\n",
       "#sk-container-id-2 div.sk-label label.sk-toggleable__label,\n",
       "#sk-container-id-2 div.sk-label label {\n",
       "  /* The background is the default theme color */\n",
       "  color: var(--sklearn-color-text-on-default-background);\n",
       "}\n",
       "\n",
       "/* On hover, darken the color of the background */\n",
       "#sk-container-id-2 div.sk-label:hover label.sk-toggleable__label {\n",
       "  color: var(--sklearn-color-text);\n",
       "  background-color: var(--sklearn-color-unfitted-level-2);\n",
       "}\n",
       "\n",
       "/* Label box, darken color on hover, fitted */\n",
       "#sk-container-id-2 div.sk-label.fitted:hover label.sk-toggleable__label.fitted {\n",
       "  color: var(--sklearn-color-text);\n",
       "  background-color: var(--sklearn-color-fitted-level-2);\n",
       "}\n",
       "\n",
       "/* Estimator label */\n",
       "\n",
       "#sk-container-id-2 div.sk-label label {\n",
       "  font-family: monospace;\n",
       "  font-weight: bold;\n",
       "  display: inline-block;\n",
       "  line-height: 1.2em;\n",
       "}\n",
       "\n",
       "#sk-container-id-2 div.sk-label-container {\n",
       "  text-align: center;\n",
       "}\n",
       "\n",
       "/* Estimator-specific */\n",
       "#sk-container-id-2 div.sk-estimator {\n",
       "  font-family: monospace;\n",
       "  border: 1px dotted var(--sklearn-color-border-box);\n",
       "  border-radius: 0.25em;\n",
       "  box-sizing: border-box;\n",
       "  margin-bottom: 0.5em;\n",
       "  /* unfitted */\n",
       "  background-color: var(--sklearn-color-unfitted-level-0);\n",
       "}\n",
       "\n",
       "#sk-container-id-2 div.sk-estimator.fitted {\n",
       "  /* fitted */\n",
       "  background-color: var(--sklearn-color-fitted-level-0);\n",
       "}\n",
       "\n",
       "/* on hover */\n",
       "#sk-container-id-2 div.sk-estimator:hover {\n",
       "  /* unfitted */\n",
       "  background-color: var(--sklearn-color-unfitted-level-2);\n",
       "}\n",
       "\n",
       "#sk-container-id-2 div.sk-estimator.fitted:hover {\n",
       "  /* fitted */\n",
       "  background-color: var(--sklearn-color-fitted-level-2);\n",
       "}\n",
       "\n",
       "/* Specification for estimator info (e.g. \"i\" and \"?\") */\n",
       "\n",
       "/* Common style for \"i\" and \"?\" */\n",
       "\n",
       ".sk-estimator-doc-link,\n",
       "a:link.sk-estimator-doc-link,\n",
       "a:visited.sk-estimator-doc-link {\n",
       "  float: right;\n",
       "  font-size: smaller;\n",
       "  line-height: 1em;\n",
       "  font-family: monospace;\n",
       "  background-color: var(--sklearn-color-background);\n",
       "  border-radius: 1em;\n",
       "  height: 1em;\n",
       "  width: 1em;\n",
       "  text-decoration: none !important;\n",
       "  margin-left: 0.5em;\n",
       "  text-align: center;\n",
       "  /* unfitted */\n",
       "  border: var(--sklearn-color-unfitted-level-1) 1pt solid;\n",
       "  color: var(--sklearn-color-unfitted-level-1);\n",
       "}\n",
       "\n",
       ".sk-estimator-doc-link.fitted,\n",
       "a:link.sk-estimator-doc-link.fitted,\n",
       "a:visited.sk-estimator-doc-link.fitted {\n",
       "  /* fitted */\n",
       "  border: var(--sklearn-color-fitted-level-1) 1pt solid;\n",
       "  color: var(--sklearn-color-fitted-level-1);\n",
       "}\n",
       "\n",
       "/* On hover */\n",
       "div.sk-estimator:hover .sk-estimator-doc-link:hover,\n",
       ".sk-estimator-doc-link:hover,\n",
       "div.sk-label-container:hover .sk-estimator-doc-link:hover,\n",
       ".sk-estimator-doc-link:hover {\n",
       "  /* unfitted */\n",
       "  background-color: var(--sklearn-color-unfitted-level-3);\n",
       "  color: var(--sklearn-color-background);\n",
       "  text-decoration: none;\n",
       "}\n",
       "\n",
       "div.sk-estimator.fitted:hover .sk-estimator-doc-link.fitted:hover,\n",
       ".sk-estimator-doc-link.fitted:hover,\n",
       "div.sk-label-container:hover .sk-estimator-doc-link.fitted:hover,\n",
       ".sk-estimator-doc-link.fitted:hover {\n",
       "  /* fitted */\n",
       "  background-color: var(--sklearn-color-fitted-level-3);\n",
       "  color: var(--sklearn-color-background);\n",
       "  text-decoration: none;\n",
       "}\n",
       "\n",
       "/* Span, style for the box shown on hovering the info icon */\n",
       ".sk-estimator-doc-link span {\n",
       "  display: none;\n",
       "  z-index: 9999;\n",
       "  position: relative;\n",
       "  font-weight: normal;\n",
       "  right: .2ex;\n",
       "  padding: .5ex;\n",
       "  margin: .5ex;\n",
       "  width: min-content;\n",
       "  min-width: 20ex;\n",
       "  max-width: 50ex;\n",
       "  color: var(--sklearn-color-text);\n",
       "  box-shadow: 2pt 2pt 4pt #999;\n",
       "  /* unfitted */\n",
       "  background: var(--sklearn-color-unfitted-level-0);\n",
       "  border: .5pt solid var(--sklearn-color-unfitted-level-3);\n",
       "}\n",
       "\n",
       ".sk-estimator-doc-link.fitted span {\n",
       "  /* fitted */\n",
       "  background: var(--sklearn-color-fitted-level-0);\n",
       "  border: var(--sklearn-color-fitted-level-3);\n",
       "}\n",
       "\n",
       ".sk-estimator-doc-link:hover span {\n",
       "  display: block;\n",
       "}\n",
       "\n",
       "/* \"?\"-specific style due to the `<a>` HTML tag */\n",
       "\n",
       "#sk-container-id-2 a.estimator_doc_link {\n",
       "  float: right;\n",
       "  font-size: 1rem;\n",
       "  line-height: 1em;\n",
       "  font-family: monospace;\n",
       "  background-color: var(--sklearn-color-background);\n",
       "  border-radius: 1rem;\n",
       "  height: 1rem;\n",
       "  width: 1rem;\n",
       "  text-decoration: none;\n",
       "  /* unfitted */\n",
       "  color: var(--sklearn-color-unfitted-level-1);\n",
       "  border: var(--sklearn-color-unfitted-level-1) 1pt solid;\n",
       "}\n",
       "\n",
       "#sk-container-id-2 a.estimator_doc_link.fitted {\n",
       "  /* fitted */\n",
       "  border: var(--sklearn-color-fitted-level-1) 1pt solid;\n",
       "  color: var(--sklearn-color-fitted-level-1);\n",
       "}\n",
       "\n",
       "/* On hover */\n",
       "#sk-container-id-2 a.estimator_doc_link:hover {\n",
       "  /* unfitted */\n",
       "  background-color: var(--sklearn-color-unfitted-level-3);\n",
       "  color: var(--sklearn-color-background);\n",
       "  text-decoration: none;\n",
       "}\n",
       "\n",
       "#sk-container-id-2 a.estimator_doc_link.fitted:hover {\n",
       "  /* fitted */\n",
       "  background-color: var(--sklearn-color-fitted-level-3);\n",
       "}\n",
       "</style><div id=\"sk-container-id-2\" class=\"sk-top-container\"><div class=\"sk-text-repr-fallback\"><pre>LinearRegression()</pre><b>In a Jupyter environment, please rerun this cell to show the HTML representation or trust the notebook. <br />On GitHub, the HTML representation is unable to render, please try loading this page with nbviewer.org.</b></div><div class=\"sk-container\" hidden><div class=\"sk-item\"><div class=\"sk-estimator fitted sk-toggleable\"><input class=\"sk-toggleable__control sk-hidden--visually\" id=\"sk-estimator-id-2\" type=\"checkbox\" checked><label for=\"sk-estimator-id-2\" class=\"sk-toggleable__label fitted sk-toggleable__label-arrow\"><div><div>LinearRegression</div></div><div><a class=\"sk-estimator-doc-link fitted\" rel=\"noreferrer\" target=\"_blank\" href=\"https://scikit-learn.org/1.6/modules/generated/sklearn.linear_model.LinearRegression.html\">?<span>Documentation for LinearRegression</span></a><span class=\"sk-estimator-doc-link fitted\">i<span>Fitted</span></span></div></label><div class=\"sk-toggleable__content fitted\"><pre>LinearRegression()</pre></div> </div></div></div></div>"
      ],
      "text/plain": [
       "LinearRegression()"
      ]
     },
     "execution_count": 100,
     "metadata": {},
     "output_type": "execute_result"
    }
   ],
   "source": [
    "from sklearn.preprocessing import PolynomialFeatures\n",
    "\n",
    "yp = data['ingresos']\n",
    "Xp = data.drop(columns = 'ingresos')\n",
    "Xp_train,Xp_test,yp_train,yp_test = train_test_split(Xp, yp, train_size = 0.8, random_state=0)\n",
    "\n",
    "# Instaciar modelo de regresión polinomial\n",
    "poli = PolynomialFeatures(degree = 2)\n",
    "Xp_poli = poli.fit_transform(X)\n",
    "\n",
    "# Ft transformar a set de caracterìsticas\n",
    "Xp_train_poli = poli.fit_transform(Xp_train)\n",
    "Xp_test_poli = poli.fit_transform(Xp_test)\n",
    "\n",
    "mod_reg_poli = LinearRegression()\n",
    "# Entrenar set de prueba\n",
    "mod_reg_poli.fit(Xp_train_poli, yp_train)"
   ]
  },
  {
   "cell_type": "code",
   "execution_count": 101,
   "metadata": {},
   "outputs": [],
   "source": [
    "yp_train_pred = mod_reg_poli.predict(Xp_train_poli)\n",
    "yp_test_pred = mod_reg_poli.predict(Xp_test_poli)"
   ]
  },
  {
   "cell_type": "code",
   "execution_count": 102,
   "metadata": {},
   "outputs": [
    {
     "data": {
      "text/html": [
       "<div>\n",
       "<style scoped>\n",
       "    .dataframe tbody tr th:only-of-type {\n",
       "        vertical-align: middle;\n",
       "    }\n",
       "\n",
       "    .dataframe tbody tr th {\n",
       "        vertical-align: top;\n",
       "    }\n",
       "\n",
       "    .dataframe thead th {\n",
       "        text-align: right;\n",
       "    }\n",
       "</style>\n",
       "<table border=\"1\" class=\"dataframe\">\n",
       "  <thead>\n",
       "    <tr style=\"text-align: right;\">\n",
       "      <th></th>\n",
       "      <th>ingresos</th>\n",
       "      <th>0</th>\n",
       "    </tr>\n",
       "  </thead>\n",
       "  <tbody>\n",
       "    <tr>\n",
       "      <th>0</th>\n",
       "      <td>136500.0000</td>\n",
       "      <td>45791.0274</td>\n",
       "    </tr>\n",
       "    <tr>\n",
       "      <th>1</th>\n",
       "      <td>28000.0000</td>\n",
       "      <td>50337.8489</td>\n",
       "    </tr>\n",
       "    <tr>\n",
       "      <th>2</th>\n",
       "      <td>16000.0000</td>\n",
       "      <td>42659.8549</td>\n",
       "    </tr>\n",
       "    <tr>\n",
       "      <th>3</th>\n",
       "      <td>50000.0000</td>\n",
       "      <td>29362.0120</td>\n",
       "    </tr>\n",
       "    <tr>\n",
       "      <th>4</th>\n",
       "      <td>136500.0000</td>\n",
       "      <td>25432.5862</td>\n",
       "    </tr>\n",
       "    <tr>\n",
       "      <th>...</th>\n",
       "      <td>...</td>\n",
       "      <td>...</td>\n",
       "    </tr>\n",
       "    <tr>\n",
       "      <th>1447</th>\n",
       "      <td>18000.0000</td>\n",
       "      <td>16595.5477</td>\n",
       "    </tr>\n",
       "    <tr>\n",
       "      <th>1448</th>\n",
       "      <td>33000.0000</td>\n",
       "      <td>47902.8092</td>\n",
       "    </tr>\n",
       "    <tr>\n",
       "      <th>1449</th>\n",
       "      <td>0.0000</td>\n",
       "      <td>8041.6372</td>\n",
       "    </tr>\n",
       "    <tr>\n",
       "      <th>1450</th>\n",
       "      <td>26000.0000</td>\n",
       "      <td>29359.2184</td>\n",
       "    </tr>\n",
       "    <tr>\n",
       "      <th>1451</th>\n",
       "      <td>8000.0000</td>\n",
       "      <td>18013.0745</td>\n",
       "    </tr>\n",
       "  </tbody>\n",
       "</table>\n",
       "<p>1452 rows × 2 columns</p>\n",
       "</div>"
      ],
      "text/plain": [
       "        ingresos          0\n",
       "0    136500.0000 45791.0274\n",
       "1     28000.0000 50337.8489\n",
       "2     16000.0000 42659.8549\n",
       "3     50000.0000 29362.0120\n",
       "4    136500.0000 25432.5862\n",
       "...          ...        ...\n",
       "1447  18000.0000 16595.5477\n",
       "1448  33000.0000 47902.8092\n",
       "1449      0.0000  8041.6372\n",
       "1450  26000.0000 29359.2184\n",
       "1451   8000.0000 18013.0745\n",
       "\n",
       "[1452 rows x 2 columns]"
      ]
     },
     "execution_count": 102,
     "metadata": {},
     "output_type": "execute_result"
    }
   ],
   "source": [
    "pd.concat([yp_train.reset_index(drop = True), pd.DataFrame(yp_train_pred)], axis = 1)"
   ]
  },
  {
   "cell_type": "code",
   "execution_count": 103,
   "metadata": {},
   "outputs": [
    {
     "data": {
      "text/html": [
       "<div>\n",
       "<style scoped>\n",
       "    .dataframe tbody tr th:only-of-type {\n",
       "        vertical-align: middle;\n",
       "    }\n",
       "\n",
       "    .dataframe tbody tr th {\n",
       "        vertical-align: top;\n",
       "    }\n",
       "\n",
       "    .dataframe thead th {\n",
       "        text-align: right;\n",
       "    }\n",
       "</style>\n",
       "<table border=\"1\" class=\"dataframe\">\n",
       "  <thead>\n",
       "    <tr style=\"text-align: right;\">\n",
       "      <th></th>\n",
       "      <th>MAE</th>\n",
       "      <th>MSE</th>\n",
       "      <th>RMSE</th>\n",
       "      <th>R2</th>\n",
       "    </tr>\n",
       "  </thead>\n",
       "  <tbody>\n",
       "    <tr>\n",
       "      <th>Regresión Polinomial G2</th>\n",
       "      <td>11834.1913</td>\n",
       "      <td>384251275.0025</td>\n",
       "      <td>19602.3283</td>\n",
       "      <td>0.2625</td>\n",
       "    </tr>\n",
       "  </tbody>\n",
       "</table>\n",
       "</div>"
      ],
      "text/plain": [
       "                               MAE            MSE       RMSE     R2\n",
       "Regresión Polinomial G2 11834.1913 384251275.0025 19602.3283 0.2625"
      ]
     },
     "execution_count": 103,
     "metadata": {},
     "output_type": "execute_result"
    }
   ],
   "source": [
    "fn_metricas_info('Regresión Polinomial G2',yp_train, yp_train_pred)"
   ]
  },
  {
   "cell_type": "code",
   "execution_count": 104,
   "metadata": {},
   "outputs": [
    {
     "data": {
      "text/html": [
       "<div>\n",
       "<style scoped>\n",
       "    .dataframe tbody tr th:only-of-type {\n",
       "        vertical-align: middle;\n",
       "    }\n",
       "\n",
       "    .dataframe tbody tr th {\n",
       "        vertical-align: top;\n",
       "    }\n",
       "\n",
       "    .dataframe thead th {\n",
       "        text-align: right;\n",
       "    }\n",
       "</style>\n",
       "<table border=\"1\" class=\"dataframe\">\n",
       "  <thead>\n",
       "    <tr style=\"text-align: right;\">\n",
       "      <th></th>\n",
       "      <th>MAE</th>\n",
       "      <th>MSE</th>\n",
       "      <th>RMSE</th>\n",
       "      <th>R2</th>\n",
       "    </tr>\n",
       "  </thead>\n",
       "  <tbody>\n",
       "    <tr>\n",
       "      <th>Regresión Polinomial G2</th>\n",
       "      <td>12532.4515</td>\n",
       "      <td>358267601.5404</td>\n",
       "      <td>18927.9582</td>\n",
       "      <td>0.2091</td>\n",
       "    </tr>\n",
       "  </tbody>\n",
       "</table>\n",
       "</div>"
      ],
      "text/plain": [
       "                               MAE            MSE       RMSE     R2\n",
       "Regresión Polinomial G2 12532.4515 358267601.5404 18927.9582 0.2091"
      ]
     },
     "execution_count": 104,
     "metadata": {},
     "output_type": "execute_result"
    }
   ],
   "source": [
    "polinomial= fn_metricas_info('Regresión Polinomial G2',yp_test, yp_test_pred)\n",
    "polinomial"
   ]
  },
  {
   "cell_type": "code",
   "execution_count": 105,
   "metadata": {},
   "outputs": [
    {
     "data": {
      "text/html": [
       "<div>\n",
       "<style scoped>\n",
       "    .dataframe tbody tr th:only-of-type {\n",
       "        vertical-align: middle;\n",
       "    }\n",
       "\n",
       "    .dataframe tbody tr th {\n",
       "        vertical-align: top;\n",
       "    }\n",
       "\n",
       "    .dataframe thead th {\n",
       "        text-align: right;\n",
       "    }\n",
       "</style>\n",
       "<table border=\"1\" class=\"dataframe\">\n",
       "  <thead>\n",
       "    <tr style=\"text-align: right;\">\n",
       "      <th></th>\n",
       "      <th>MAE</th>\n",
       "      <th>MSE</th>\n",
       "      <th>RMSE</th>\n",
       "      <th>R2</th>\n",
       "    </tr>\n",
       "  </thead>\n",
       "  <tbody>\n",
       "    <tr>\n",
       "      <th>Regresión KNN</th>\n",
       "      <td>12704.8114</td>\n",
       "      <td>366964060.9990</td>\n",
       "      <td>19156.3060</td>\n",
       "      <td>0.1899</td>\n",
       "    </tr>\n",
       "    <tr>\n",
       "      <th>Regresión Polinomial G2</th>\n",
       "      <td>12532.4515</td>\n",
       "      <td>358267601.5404</td>\n",
       "      <td>18927.9582</td>\n",
       "      <td>0.2091</td>\n",
       "    </tr>\n",
       "  </tbody>\n",
       "</table>\n",
       "</div>"
      ],
      "text/plain": [
       "                               MAE            MSE       RMSE     R2\n",
       "Regresión KNN           12704.8114 366964060.9990 19156.3060 0.1899\n",
       "Regresión Polinomial G2 12532.4515 358267601.5404 18927.9582 0.2091"
      ]
     },
     "execution_count": 105,
     "metadata": {},
     "output_type": "execute_result"
    }
   ],
   "source": [
    "dfs = [kkn, polinomial]  # Lista de DataFrames\n",
    "regresiones = pd.concat(dfs, ignore_index=False)\n",
    "regresiones"
   ]
  },
  {
   "cell_type": "markdown",
   "metadata": {},
   "source": [
    "Ridge"
   ]
  },
  {
   "cell_type": "markdown",
   "metadata": {},
   "source": [
    "Esta regresión regularizada se utiliza para prevenir el sobreajuste del modelo. En lugar de simplemente minimizar la suma de los cuadrados de los residuos (como en la regresión lineal ordinaria), agrega una penalización a los coeficientes para controlar su magnitud, es decir, penalizar los coeficientes grandes al forzarlos a ser lo más pequeños posible. Esto nos ayudara a reducir el efecto de las variables que no sean tan relevantes para el modelo."
   ]
  },
  {
   "cell_type": "markdown",
   "metadata": {},
   "source": [
    "Determinar el mejor alfa"
   ]
  },
  {
   "cell_type": "code",
   "execution_count": 106,
   "metadata": {},
   "outputs": [
    {
     "data": {
      "text/html": [
       "<div>\n",
       "<style scoped>\n",
       "    .dataframe tbody tr th:only-of-type {\n",
       "        vertical-align: middle;\n",
       "    }\n",
       "\n",
       "    .dataframe tbody tr th {\n",
       "        vertical-align: top;\n",
       "    }\n",
       "\n",
       "    .dataframe thead th {\n",
       "        text-align: right;\n",
       "    }\n",
       "</style>\n",
       "<table border=\"1\" class=\"dataframe\">\n",
       "  <thead>\n",
       "    <tr style=\"text-align: right;\">\n",
       "      <th></th>\n",
       "      <th>MAE</th>\n",
       "      <th>MSE</th>\n",
       "      <th>RMSE</th>\n",
       "      <th>R2</th>\n",
       "    </tr>\n",
       "  </thead>\n",
       "  <tbody>\n",
       "    <tr>\n",
       "      <th>Regresión Ridge</th>\n",
       "      <td>12178.8162</td>\n",
       "      <td>414293536.1507</td>\n",
       "      <td>20354.2019</td>\n",
       "      <td>0.2049</td>\n",
       "    </tr>\n",
       "  </tbody>\n",
       "</table>\n",
       "</div>"
      ],
      "text/plain": [
       "                       MAE            MSE       RMSE     R2\n",
       "Regresión Ridge 12178.8162 414293536.1507 20354.2019 0.2049"
      ]
     },
     "execution_count": 106,
     "metadata": {},
     "output_type": "execute_result"
    }
   ],
   "source": [
    "from sklearn.linear_model import Ridge\n",
    "\n",
    "yr = data['ingresos']\n",
    "Xr = data.drop(columns = 'ingresos')\n",
    "Xr_train,Xr_test,yr_train,yr_test = train_test_split(Xr, yr, train_size = 0.8, random_state=0)\n",
    "\n",
    "\n",
    "ridge = Ridge(alpha= 5, random_state=42)\n",
    "# Entrenar modelo datos train\n",
    "ridge.fit(Xr_train, yr_train)\n",
    "# Obtener predicción\n",
    "xr_train_pred = ridge.predict(Xr_train)\n",
    "fn_metricas_info('Regresión Ridge',yr_train, xr_train_pred)"
   ]
  },
  {
   "cell_type": "code",
   "execution_count": 107,
   "metadata": {},
   "outputs": [
    {
     "name": "stdout",
     "output_type": "stream",
     "text": [
      "El mejor valor de alpha es: 5\n"
     ]
    }
   ],
   "source": [
    "from sklearn.linear_model import Ridge\n",
    "from sklearn.model_selection import GridSearchCV, KFold\n",
    "\n",
    "# particiones\n",
    "particiones = KFold(n_splits = 10, shuffle = True, random_state = 0)\n",
    "\n",
    "# Definir el rango de valores de alpha\n",
    "param_grid = {'alpha': [0.1, 1, 3, 5, 10]}\n",
    "\n",
    "# Crear el modelo de regresión Ridge\n",
    "ridge = Ridge()\n",
    "\n",
    "# Configurar la búsqueda de cuadrícula\n",
    "grid_search = GridSearchCV(estimator=ridge, param_grid=param_grid, cv=particiones, scoring='neg_mean_squared_error')\n",
    "\n",
    "# Realizar la búsqueda de cuadrícula\n",
    "grid_search.fit(Xr_train, yr_train)\n",
    "\n",
    "# Obtener el mejor valor de alpha\n",
    "best_alpha = grid_search.best_params_['alpha']\n",
    "\n",
    "print(\"El mejor valor de alpha es:\", best_alpha)"
   ]
  },
  {
   "cell_type": "code",
   "execution_count": 108,
   "metadata": {},
   "outputs": [],
   "source": [
    "from sklearn.linear_model import Ridge\n",
    "\n",
    "# Crear el modelo Ridge\n",
    "ridge = Ridge()\n",
    "\n",
    "# Ajustar el modelo a los datos de entrenamiento\n",
    "ridge.fit(Xr_train, yr_train)  # Asegúrate de que Xr_train y yr_train estén definidos\n",
    "\n",
    "# Usar el modelo para predecir en los datos de prueba\n",
    "yr_test_pred = ridge.predict(Xr_test)"
   ]
  },
  {
   "cell_type": "code",
   "execution_count": 109,
   "metadata": {},
   "outputs": [
    {
     "name": "stdout",
     "output_type": "stream",
     "text": [
      "                       MAE            MSE       RMSE     R2\n",
      "Regresión Ridge 12811.1607 365090448.5032 19107.3402 0.1940\n"
     ]
    }
   ],
   "source": [
    "from sklearn.linear_model import Ridge\n",
    "\n",
    "# Definir el modelo Ridge\n",
    "ridge = Ridge()\n",
    "\n",
    "# Ajustar el modelo con los datos de entrenamiento\n",
    "ridge.fit(Xr_train, yr_train)  # Entrena el modelo\n",
    "\n",
    "# Obtener predicciones en los datos de prueba\n",
    "yr_test_pred = ridge.predict(Xr_test)  # Predecir los valores\n",
    "\n",
    "# Calcular métricas (ejemplo de tu función personalizada)\n",
    "Ridge = fn_metricas_info('Regresión Ridge', yr_test, yr_test_pred)\n",
    "\n",
    "# Mostrar resultados\n",
    "print(Ridge)"
   ]
  },
  {
   "cell_type": "markdown",
   "metadata": {},
   "source": [
    "Lasso"
   ]
  },
  {
   "cell_type": "markdown",
   "metadata": {},
   "source": [
    "En la regresión Ridge los coeficientes tienden hacia cero, en la regresión Lasso los coeficientes puede volverse cero, lo que implica que la regresión Lasso tiene otro efecto y es que automáticamente depura las variables que no agregan poder predictivo al modelo. es decir este tipo de regresión implementa una selección de variables, dejando únicamente en la combinación lineal aquellas que se consideran informativas para la predicción. Tiende a generar modelos dispersos, es decir, con menos características importantes y más coeficientes exactamente iguales a cero.\n",
    "\n",
    "La regresión Lasso es útil cuando se desea realizar una selección automática de características, ya que tiende a establecer coeficientes exactamente a cero para las características menos importantes. Sin embargo, a veces puede ser menos estable que la regresión Ridge cuando hay multicolinealidad fuerte entre las características. En tales casos, la regresión Ridge puede ser preferible."
   ]
  },
  {
   "cell_type": "markdown",
   "metadata": {},
   "source": [
    "Determinar el mejor alfa para la regresión Lasso"
   ]
  },
  {
   "cell_type": "code",
   "execution_count": 110,
   "metadata": {},
   "outputs": [
    {
     "data": {
      "text/html": [
       "<div>\n",
       "<style scoped>\n",
       "    .dataframe tbody tr th:only-of-type {\n",
       "        vertical-align: middle;\n",
       "    }\n",
       "\n",
       "    .dataframe tbody tr th {\n",
       "        vertical-align: top;\n",
       "    }\n",
       "\n",
       "    .dataframe thead th {\n",
       "        text-align: right;\n",
       "    }\n",
       "</style>\n",
       "<table border=\"1\" class=\"dataframe\">\n",
       "  <thead>\n",
       "    <tr style=\"text-align: right;\">\n",
       "      <th></th>\n",
       "      <th>MAE</th>\n",
       "      <th>MSE</th>\n",
       "      <th>RMSE</th>\n",
       "      <th>R2</th>\n",
       "    </tr>\n",
       "  </thead>\n",
       "  <tbody>\n",
       "    <tr>\n",
       "      <th>Regresión Lasso</th>\n",
       "      <td>12182.6942</td>\n",
       "      <td>414283472.0554</td>\n",
       "      <td>20353.9547</td>\n",
       "      <td>0.2049</td>\n",
       "    </tr>\n",
       "  </tbody>\n",
       "</table>\n",
       "</div>"
      ],
      "text/plain": [
       "                       MAE            MSE       RMSE     R2\n",
       "Regresión Lasso 12182.6942 414283472.0554 20353.9547 0.2049"
      ]
     },
     "execution_count": 110,
     "metadata": {},
     "output_type": "execute_result"
    }
   ],
   "source": [
    "from sklearn.linear_model import Lasso\n",
    "yl = data['ingresos']\n",
    "Xl = data.drop(columns = 'ingresos')\n",
    "Xl_train,Xl_test,yl_train,yl_test = train_test_split(Xl, yl, train_size = 0.8, random_state=0)\n",
    "\n",
    "#ocupamos el alpha= 10\n",
    "lasso = Lasso(alpha=10,random_state=42)\n",
    "lasso.fit(Xl_train, yl_train)\n",
    "\n",
    "#Obtener las predicciones del modelo\n",
    "yl_train_pred = lasso.predict(Xl_train)\n",
    "\n",
    "#@title Rendimiento del modelo\n",
    "fn_metricas_info('Regresión Lasso',yl_train, yl_train_pred)"
   ]
  },
  {
   "cell_type": "code",
   "execution_count": 111,
   "metadata": {},
   "outputs": [
    {
     "name": "stdout",
     "output_type": "stream",
     "text": [
      "El mejor valor de alpha es: 10\n"
     ]
    }
   ],
   "source": [
    "from sklearn.linear_model import Lasso\n",
    "from sklearn.model_selection import GridSearchCV, KFold\n",
    "\n",
    "# particiones\n",
    "particiones = KFold(n_splits = 10, shuffle = True, random_state = 0)\n",
    "\n",
    "# Definir el rango de valores de alpha\n",
    "param_grid = {'alpha': [0.1, 1, 3, 5, 10]}\n",
    "\n",
    "# Crear el modelo de regresión Ridge\n",
    "lasso = Lasso()\n",
    "\n",
    "# Configurar la búsqueda de cuadrícula\n",
    "# minimizar el error cuadrático medio durante la búsqueda de cuadrícula.\n",
    "grid_search = GridSearchCV(estimator=lasso, param_grid=param_grid, cv=particiones, scoring='neg_mean_squared_error')\n",
    "\n",
    "# Realizar la búsqueda de cuadrícula\n",
    "grid_search.fit(Xl_train, yl_train)\n",
    "\n",
    "# Obtener el mejor valor de alpha\n",
    "best_alpha = grid_search.best_params_['alpha']\n",
    "\n",
    "print(\"El mejor valor de alpha es:\", best_alpha)"
   ]
  },
  {
   "cell_type": "code",
   "execution_count": 112,
   "metadata": {},
   "outputs": [],
   "source": [
    "from sklearn.linear_model import Lasso\n",
    "\n",
    "# Crear el modelo Lasso\n",
    "lasso = Lasso()\n",
    "\n",
    "# Ajustar el modelo con los datos de entrenamiento\n",
    "lasso.fit(X_train, y_train)  # Entrena el modelo con los datos de entrenamiento\n",
    "\n",
    "# Usar el modelo para predecir los datos de prueba\n",
    "y_test_pred = lasso.predict(X_test)\n"
   ]
  },
  {
   "cell_type": "code",
   "execution_count": 113,
   "metadata": {},
   "outputs": [
    {
     "name": "stdout",
     "output_type": "stream",
     "text": [
      "                       MAE            MSE       RMSE     R2\n",
      "Regresión Lasso 12812.3858 365112414.4891 19107.9150 0.1940\n"
     ]
    }
   ],
   "source": [
    "from sklearn.linear_model import Lasso\n",
    "\n",
    "# Crear el modelo Lasso\n",
    "lasso = Lasso()\n",
    "\n",
    "# Entrenar el modelo Lasso con los datos de entrenamiento\n",
    "lasso.fit(X_train, y_train)  # Asegúrate de que X_train y y_train estén definidos\n",
    "\n",
    "# Predecir los valores con los datos de prueba\n",
    "y_test_pred = lasso.predict(X_test)\n",
    "\n",
    "# Calcular métricas usando la función personalizada\n",
    "lasso_metrics = fn_metricas_info('Regresión Lasso', y_test, y_test_pred)\n",
    "\n",
    "# Mostrar resultados\n",
    "print(lasso_metrics)\n"
   ]
  },
  {
   "cell_type": "markdown",
   "metadata": {},
   "source": [
    "Determinar variables de importancia"
   ]
  },
  {
   "cell_type": "code",
   "execution_count": 114,
   "metadata": {},
   "outputs": [
    {
     "name": "stdout",
     "output_type": "stream",
     "text": [
      "Mejor penalización: Lasso(alpha=10)\n"
     ]
    },
    {
     "data": {
      "text/html": [
       "<div>\n",
       "<style scoped>\n",
       "    .dataframe tbody tr th:only-of-type {\n",
       "        vertical-align: middle;\n",
       "    }\n",
       "\n",
       "    .dataframe tbody tr th {\n",
       "        vertical-align: top;\n",
       "    }\n",
       "\n",
       "    .dataframe thead th {\n",
       "        text-align: right;\n",
       "    }\n",
       "</style>\n",
       "<table border=\"1\" class=\"dataframe\">\n",
       "  <thead>\n",
       "    <tr style=\"text-align: right;\">\n",
       "      <th></th>\n",
       "      <th>variables</th>\n",
       "      <th>coeficientes</th>\n",
       "    </tr>\n",
       "  </thead>\n",
       "  <tbody>\n",
       "    <tr>\n",
       "      <th>0</th>\n",
       "      <td>genero</td>\n",
       "      <td>14357.9389</td>\n",
       "    </tr>\n",
       "    <tr>\n",
       "      <th>1</th>\n",
       "      <td>etnia</td>\n",
       "      <td>3377.9120</td>\n",
       "    </tr>\n",
       "    <tr>\n",
       "      <th>2</th>\n",
       "      <td>educacion</td>\n",
       "      <td>2838.9696</td>\n",
       "    </tr>\n",
       "    <tr>\n",
       "      <th>3</th>\n",
       "      <td>tenso</td>\n",
       "      <td>524.7712</td>\n",
       "    </tr>\n",
       "    <tr>\n",
       "      <th>4</th>\n",
       "      <td>malhumorado</td>\n",
       "      <td>0.0000</td>\n",
       "    </tr>\n",
       "    <tr>\n",
       "      <th>5</th>\n",
       "      <td>edad</td>\n",
       "      <td>193.7572</td>\n",
       "    </tr>\n",
       "    <tr>\n",
       "      <th>6</th>\n",
       "      <td>sedentario</td>\n",
       "      <td>-100.3690</td>\n",
       "    </tr>\n",
       "  </tbody>\n",
       "</table>\n",
       "</div>"
      ],
      "text/plain": [
       "     variables  coeficientes\n",
       "0       genero    14357.9389\n",
       "1        etnia     3377.9120\n",
       "2    educacion     2838.9696\n",
       "3        tenso      524.7712\n",
       "4  malhumorado        0.0000\n",
       "5         edad      193.7572\n",
       "6   sedentario     -100.3690"
      ]
     },
     "execution_count": 114,
     "metadata": {},
     "output_type": "execute_result"
    }
   ],
   "source": [
    "modelo_final = grid_search.best_estimator_\n",
    "print(f'Mejor penalización: {modelo_final}')\n",
    "coeficientes = modelo_final.coef_\n",
    "variables = X.columns\n",
    "pd.DataFrame({'variables': variables, 'coeficientes': coeficientes})"
   ]
  },
  {
   "cell_type": "markdown",
   "metadata": {},
   "source": [
    "Las variables malhumorado y sendentario son practicamente cero, por lo tanto no aportan al modelo de prediccion."
   ]
  },
  {
   "cell_type": "markdown",
   "metadata": {},
   "source": [
    "Elastic net"
   ]
  },
  {
   "cell_type": "markdown",
   "metadata": {},
   "source": [
    "La principal ventaja de Elastic Net es que puede manejar conjuntos de datos con características altamente correlacionadas de manera más efectiva que Ridge o Lasso por sí solos."
   ]
  },
  {
   "cell_type": "code",
   "execution_count": 115,
   "metadata": {},
   "outputs": [
    {
     "name": "stdout",
     "output_type": "stream",
     "text": [
      "El mejor valor de alpha es: 0.1\n"
     ]
    }
   ],
   "source": [
    "from sklearn.linear_model import ElasticNet\n",
    "from sklearn.model_selection import GridSearchCV\n",
    "\n",
    "#buscar el mejor alpha\n",
    "# Definir el rango de valores de alpha\n",
    "param_grid = {'alpha': [0.1, 1, 10, 100]}\n",
    "\n",
    "# Crear el modelo de regresión Ridge\n",
    "elastic_net = ElasticNet()\n",
    "\n",
    "# particiones\n",
    "particiones = KFold(n_splits = 10, shuffle = True, random_state = 0)\n",
    "\n",
    "# Configurar la búsqueda de cuadrícula\n",
    "# minimizar el error cuadrático medio durante la búsqueda de cuadrícula.\n",
    "grid_search = GridSearchCV(estimator=elastic_net, param_grid=param_grid, cv=particiones, scoring='neg_mean_squared_error')\n",
    "\n",
    "# Realizar la búsqueda de cuadrícula\n",
    "grid_search.fit(X_train, y_train)\n",
    "\n",
    "# Obtener el mejor valor de alpha\n",
    "best_alpha = grid_search.best_params_['alpha']\n",
    "\n",
    "print(\"El mejor valor de alpha es:\", best_alpha)"
   ]
  },
  {
   "cell_type": "code",
   "execution_count": 116,
   "metadata": {},
   "outputs": [
    {
     "data": {
      "text/html": [
       "<div>\n",
       "<style scoped>\n",
       "    .dataframe tbody tr th:only-of-type {\n",
       "        vertical-align: middle;\n",
       "    }\n",
       "\n",
       "    .dataframe tbody tr th {\n",
       "        vertical-align: top;\n",
       "    }\n",
       "\n",
       "    .dataframe thead th {\n",
       "        text-align: right;\n",
       "    }\n",
       "</style>\n",
       "<table border=\"1\" class=\"dataframe\">\n",
       "  <thead>\n",
       "    <tr style=\"text-align: right;\">\n",
       "      <th></th>\n",
       "      <th>MAE</th>\n",
       "      <th>MSE</th>\n",
       "      <th>RMSE</th>\n",
       "      <th>R2</th>\n",
       "    </tr>\n",
       "  </thead>\n",
       "  <tbody>\n",
       "    <tr>\n",
       "      <th>Regresión Elastic Net</th>\n",
       "      <td>12147.2422</td>\n",
       "      <td>415955691.3648</td>\n",
       "      <td>20394.9918</td>\n",
       "      <td>0.2017</td>\n",
       "    </tr>\n",
       "  </tbody>\n",
       "</table>\n",
       "</div>"
      ],
      "text/plain": [
       "                             MAE            MSE       RMSE     R2\n",
       "Regresión Elastic Net 12147.2422 415955691.3648 20394.9918 0.2017"
      ]
     },
     "execution_count": 116,
     "metadata": {},
     "output_type": "execute_result"
    }
   ],
   "source": [
    "from sklearn.linear_model import ElasticNet\n",
    "ye = data['ingresos']\n",
    "Xe = data.drop(columns = 'ingresos')\n",
    "Xe_train,Xe_test,ye_train,ye_test = train_test_split(Xe, ye, train_size = 0.8, random_state=0)\n",
    "\n",
    "elastic_net = ElasticNet(alpha=best_alpha,\n",
    "                         random_state=42)\n",
    "\n",
    "\n",
    "elastic_net.fit(Xe_train, ye_train)\n",
    "ye_train_pred = elastic_net.predict(X_train)\n",
    "ye_test_pred = elastic_net.predict(X_test)\n",
    "\n",
    "fn_metricas_info('Regresión Elastic Net',ye_train, ye_train_pred)"
   ]
  },
  {
   "cell_type": "code",
   "execution_count": 76,
   "metadata": {},
   "outputs": [
    {
     "data": {
      "text/html": [
       "<div>\n",
       "<style scoped>\n",
       "    .dataframe tbody tr th:only-of-type {\n",
       "        vertical-align: middle;\n",
       "    }\n",
       "\n",
       "    .dataframe tbody tr th {\n",
       "        vertical-align: top;\n",
       "    }\n",
       "\n",
       "    .dataframe thead th {\n",
       "        text-align: right;\n",
       "    }\n",
       "</style>\n",
       "<table border=\"1\" class=\"dataframe\">\n",
       "  <thead>\n",
       "    <tr style=\"text-align: right;\">\n",
       "      <th></th>\n",
       "      <th>MAE</th>\n",
       "      <th>MSE</th>\n",
       "      <th>RMSE</th>\n",
       "      <th>R2</th>\n",
       "    </tr>\n",
       "  </thead>\n",
       "  <tbody>\n",
       "    <tr>\n",
       "      <th>Regresión Elastic Net</th>\n",
       "      <td>12769.0901</td>\n",
       "      <td>365442448.0759</td>\n",
       "      <td>19116.5491</td>\n",
       "      <td>0.1932</td>\n",
       "    </tr>\n",
       "  </tbody>\n",
       "</table>\n",
       "</div>"
      ],
      "text/plain": [
       "                             MAE            MSE       RMSE     R2\n",
       "Regresión Elastic Net 12769.0901 365442448.0759 19116.5491 0.1932"
      ]
     },
     "execution_count": 76,
     "metadata": {},
     "output_type": "execute_result"
    }
   ],
   "source": [
    "Elastic= fn_metricas_info('Regresión Elastic Net',ye_test, ye_test_pred)\n",
    "Elastic"
   ]
  },
  {
   "cell_type": "markdown",
   "metadata": {},
   "source": [
    "Como podemos notar, al comparar todas las regresiones, la Regresión Polinomial G2 es la que mejor explica el modelo. Esto se debe a que el valor de MAE es el más bajo, lo cual nos indica que, en promedio, es el modelo que menos se desvía del valor real. Con RMSE sucede algo similar. En cuanto al MSE, al penalizar los grandes errores, el más valor mas bajo nos indica ser el mejor.Por lo tanto, al ser el modelo polinomial el que cumple con todas estas características, podemos concluir que es el mejor modelo para predecir los ingresos."
   ]
  }
 ],
 "metadata": {
  "kernelspec": {
   "display_name": "Python 3",
   "language": "python",
   "name": "python3"
  },
  "language_info": {
   "codemirror_mode": {
    "name": "ipython",
    "version": 3
   },
   "file_extension": ".py",
   "mimetype": "text/x-python",
   "name": "python",
   "nbconvert_exporter": "python",
   "pygments_lexer": "ipython3",
   "version": "3.13.1"
  }
 },
 "nbformat": 4,
 "nbformat_minor": 2
}
